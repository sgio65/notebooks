{
 "cells": [
  {
   "cell_type": "markdown",
   "id": "f9a087a1-cf8b-43ab-a2cd-d226a49c5951",
   "metadata": {
    "id": "f9a087a1-cf8b-43ab-a2cd-d226a49c5951"
   },
   "source": [
    "# Liste in Python (come collezionare più valori con un solo nome)\n",
    "## List\n",
    "Gli elenchi (**List**) vengono utilizzati per archiviare più elementi in una singola variabile. Gli elenchi sono uno dei **4 tipi** di dati incorporati in Python utilizzati per archiviare **raccolte di dati**, gli altri 3 sono **Tuple, Set e Dictionary**, tutti con qualità e utilizzo diversi.\n",
    "\n",
    "![Coppie di Interi](images/Liste.drawio.png)\n",
    "\n",
    "Gli elenchi vengono creati utilizzando parentesi quadre:\n",
    "### Esempio\n",
    "Creiamo una lista:"
   ]
  },
  {
   "cell_type": "code",
   "execution_count": null,
   "id": "ee2cba6e-3c19-44d4-bf06-42bc154e92a0",
   "metadata": {
    "id": "ee2cba6e-3c19-44d4-bf06-42bc154e92a0",
    "outputId": "c8fc4551-4299-4ef9-865d-6804c27829c6"
   },
   "outputs": [
    {
     "name": "stdout",
     "output_type": "stream",
     "text": [
      "['apple', 'banana', 'cherry']\n",
      "[]\n"
     ]
    }
   ],
   "source": [
    "# Creiamo una lista\n",
    "thislist = [\"apple\", \"banana\", \"cherry\"]\n",
    "print(thislist)\n",
    "# Possiamo creare anche una lista vuota:\n",
    "thislist = []\n",
    "print(thislist)"
   ]
  },
  {
   "cell_type": "markdown",
   "id": "e176f8e7-5dd9-442e-947e-def3cf4d7ebf",
   "metadata": {
    "id": "e176f8e7-5dd9-442e-947e-def3cf4d7ebf"
   },
   "source": [
    "## Elementi di una lista\n",
    "Gli elementi dell'elenco sono ordinati, modificabili e consentono valori duplicati. Gli elementi dell'elenco sono indicizzati, il primo elemento ha indice [0], il secondo elemento ha indice [1] ecc.\n",
    "\n",
    "### Ordinato\n",
    "Quando diciamo che gli elenchi sono ordinati, significa che gli elementi hanno un ordine definito e che l'ordine non cambierà. Se si aggiungono nuovi elementi a un elenco, i nuovi elementi verranno posizionati alla fine dell'elenco.\n",
    "Nota: ci sono alcuni strumenti di List che cambieranno l'ordine, ma in generale: l'ordine degli elementi non cambierà.\n",
    "\n",
    "### Variabile\n",
    "L'elenco è modificabile, il che significa che possiamo modificare, aggiungere e rimuovere elementi in un elenco dopo che è stato creato.\n",
    "\n",
    "### Consente duplicati\n",
    "Poiché gli elenchi sono indicizzati, gli elenchi possono avere elementi con lo stesso valore:\n",
    "### Esempio\n",
    "Gli elenchi consentono valori duplicati:\n"
   ]
  },
  {
   "cell_type": "code",
   "execution_count": null,
   "id": "e7867287-ea8e-4cd7-8d9d-9618fff8edc3",
   "metadata": {
    "id": "e7867287-ea8e-4cd7-8d9d-9618fff8edc3",
    "outputId": "5f4f246c-a740-4136-ddca-f12e376681b4"
   },
   "outputs": [
    {
     "name": "stdout",
     "output_type": "stream",
     "text": [
      "['apple', 'banana', 'cherry', 'apple', 'cherry']\n"
     ]
    }
   ],
   "source": [
    "# In questa lista due elementi sono duplicati\n",
    "thislist = [\"apple\", \"banana\", \"cherry\", \"apple\", \"cherry\"]\n",
    "print(thislist)\n",
    "\n"
   ]
  },
  {
   "cell_type": "markdown",
   "id": "9e50621d-a2ec-43c3-b6f4-d9e1cce32817",
   "metadata": {
    "id": "9e50621d-a2ec-43c3-b6f4-d9e1cce32817"
   },
   "source": [
    "## Lunghezza dell'elenco\n",
    "Per determinare quanti elementi ha un elenco, utilizzare la funzione len():\n",
    "### Esempio\n",
    "Stampare il numero di elementi nell'elenco:\n"
   ]
  },
  {
   "cell_type": "code",
   "execution_count": null,
   "id": "f1b690bc-c054-4cb8-92f3-79e67fc6c1d0",
   "metadata": {
    "id": "f1b690bc-c054-4cb8-92f3-79e67fc6c1d0",
    "outputId": "10dd74de-c1d9-4409-b5d1-8839c5db6f8a"
   },
   "outputs": [
    {
     "name": "stdout",
     "output_type": "stream",
     "text": [
      "3\n"
     ]
    }
   ],
   "source": [
    "thislist = [\"apple\", \"banana\", \"cherry\"]\n",
    "print(len(thislist))\n",
    "# Stamperà il valore 3 .\n"
   ]
  },
  {
   "cell_type": "markdown",
   "id": "633137c1-b447-4ec8-8070-58f3d8ac813e",
   "metadata": {
    "id": "633137c1-b447-4ec8-8070-58f3d8ac813e"
   },
   "source": [
    "Un elenco può contenere diversi tipi di dati ma per il momento non useremo questa funzionalità:\n",
    "\n",
    "### Esempio\n",
    "Un elenco con stringhe, numeri interi e valori booleani:"
   ]
  },
  {
   "cell_type": "code",
   "execution_count": null,
   "id": "e96dd1a8-1ec8-4fcb-9a2d-0b1873721f49",
   "metadata": {
    "id": "e96dd1a8-1ec8-4fcb-9a2d-0b1873721f49",
    "outputId": "4e269fd3-f8ef-421e-c57b-b4e66795946e"
   },
   "outputs": [
    {
     "data": {
      "text/plain": [
       "list"
      ]
     },
     "execution_count": 8,
     "metadata": {},
     "output_type": "execute_result"
    }
   ],
   "source": [
    "# Dal punto di vista di Python, le liste sono definite come oggetti con il tipo di dati 'list':\n",
    "# <class 'list'>\n",
    "\n",
    "list1 = [\"abc\", 34, True, 40, \"male\"]\n",
    "type(list1)"
   ]
  },
  {
   "cell_type": "markdown",
   "id": "f8104e97-e0a8-473c-81d1-4ed9dd304269",
   "metadata": {
    "id": "f8104e97-e0a8-473c-81d1-4ed9dd304269"
   },
   "source": [
    "### Esempio\n",
    "Qual è il tipo di dati di un elenco?\n"
   ]
  },
  {
   "cell_type": "code",
   "execution_count": null,
   "id": "c9a046df-3862-4de4-abee-5cbad3a720f3",
   "metadata": {
    "id": "c9a046df-3862-4de4-abee-5cbad3a720f3",
    "outputId": "b3641cc6-aa41-46ad-f7fc-c26de153fa92"
   },
   "outputs": [
    {
     "name": "stdout",
     "output_type": "stream",
     "text": [
      "<class 'list'>\n"
     ]
    }
   ],
   "source": [
    "mylist = [\"apple\", \"banana\", \"cherry\"]\n",
    "print(type(mylist))\n"
   ]
  },
  {
   "cell_type": "markdown",
   "id": "07c88768-0043-4413-ac01-876bc2813d4f",
   "metadata": {
    "id": "07c88768-0043-4413-ac01-876bc2813d4f"
   },
   "source": [
    "## The list() Constructor\n",
    "È anche possibile utilizzare il costruttore list() quando si crea una nuova lista o in alternativa per creare una lista vuota:\n"
   ]
  },
  {
   "cell_type": "code",
   "execution_count": null,
   "id": "7b9360c0-e8d2-4ff0-8268-7a3291b5190d",
   "metadata": {
    "id": "7b9360c0-e8d2-4ff0-8268-7a3291b5190d"
   },
   "outputs": [],
   "source": [
    "mylist = []"
   ]
  },
  {
   "cell_type": "markdown",
   "id": "3ff25183-beba-4fa2-a70e-16e5dfa81195",
   "metadata": {
    "id": "3ff25183-beba-4fa2-a70e-16e5dfa81195"
   },
   "source": [
    "## Esempio\n",
    "Usare il costruttore list() per creare una Lista:"
   ]
  },
  {
   "cell_type": "code",
   "execution_count": null,
   "id": "357a5d17-5aa4-4e32-8abf-57040b1a92d9",
   "metadata": {
    "id": "357a5d17-5aa4-4e32-8abf-57040b1a92d9",
    "outputId": "895ad8e4-a1f6-4c8b-c463-01537979af3e"
   },
   "outputs": [
    {
     "name": "stdout",
     "output_type": "stream",
     "text": [
      "['apple', 'banana', 'cherry']\n"
     ]
    }
   ],
   "source": [
    "thislist = list((\"apple\", \"banana\", \"cherry\")) # note the double round-brackets\n",
    "print(thislist)"
   ]
  },
  {
   "cell_type": "markdown",
   "id": "91ce946f-7d6a-47b7-9f0d-c498ce30a80c",
   "metadata": {
    "id": "91ce946f-7d6a-47b7-9f0d-c498ce30a80c"
   },
   "source": [
    "## Accesso a un singolo elemento\n",
    "\n",
    "### Accesso agli elementi\n",
    "Gli elementi dell'elenco sono indicizzati ed è possibile accedervi facendo riferimento al numero di indice:\n",
    "### Esempio\n",
    "Stampare il secondo elemento dell'elenco:\n"
   ]
  },
  {
   "cell_type": "code",
   "execution_count": null,
   "id": "33038a8f-d580-4b5a-802c-8ff27f4d8326",
   "metadata": {
    "id": "33038a8f-d580-4b5a-802c-8ff27f4d8326",
    "outputId": "94930c94-313d-40b1-bdb2-fe31b847710b"
   },
   "outputs": [
    {
     "name": "stdout",
     "output_type": "stream",
     "text": [
      "banana\n"
     ]
    }
   ],
   "source": [
    "thislist = [\"apple\", \"banana\", \"cherry\"]\n",
    "print(thislist[1])\n",
    "# Nota: il primo elemento ha indice 0.\n"
   ]
  },
  {
   "cell_type": "markdown",
   "id": "55bfbb59-de75-4b49-98b5-33e082857415",
   "metadata": {
    "id": "55bfbb59-de75-4b49-98b5-33e082857415"
   },
   "source": [
    "## Indicizzazione negativa\n",
    "\n",
    "Indicizzazione negativa significa partire dalla fine\n",
    "-1 si riferisce all'ultimo elemento, -2 si riferisce al penultimo elemento, ecc.\n",
    "### Esempio\n",
    "Stampare l'ultimo elemento dell'elenco:\n"
   ]
  },
  {
   "cell_type": "code",
   "execution_count": null,
   "id": "2947417d-d19b-42d5-8366-d677c2bd0ed1",
   "metadata": {
    "id": "2947417d-d19b-42d5-8366-d677c2bd0ed1",
    "outputId": "efa4cd3f-d698-4b03-f556-a9d0fc56cd16"
   },
   "outputs": [
    {
     "name": "stdout",
     "output_type": "stream",
     "text": [
      "cherry\n"
     ]
    }
   ],
   "source": [
    "thislist = [\"apple\", \"banana\", \"cherry\"]\n",
    "print(thislist[-1])\n"
   ]
  },
  {
   "cell_type": "markdown",
   "id": "18458dcb-278a-453a-9060-3e37b019ee35",
   "metadata": {
    "id": "18458dcb-278a-453a-9060-3e37b019ee35"
   },
   "source": [
    "## Gamma di indici\n",
    "È possibile specificare un intervallo di indici specificando dove iniziare e dove terminare l'intervallo.\n",
    "Quando si specifica un intervallo, il valore restituito sarà un nuovo elenco con gli elementi specificati.\n",
    "### Esempio\n",
    "Restituisci il terzo, il quarto e il quinto elemento:\n"
   ]
  },
  {
   "cell_type": "code",
   "execution_count": null,
   "id": "6ad1ca5f-4b6b-4120-98a4-9760e3877107",
   "metadata": {
    "id": "6ad1ca5f-4b6b-4120-98a4-9760e3877107",
    "outputId": "50e73b51-b492-4012-ed2f-d9befd897f51"
   },
   "outputs": [
    {
     "name": "stdout",
     "output_type": "stream",
     "text": [
      "['cherry', 'orange', 'kiwi']\n"
     ]
    }
   ],
   "source": [
    "thislist = [\"apple\", \"banana\", \"cherry\", \"orange\", \"kiwi\", \"melon\", \"mango\"]\n",
    "print(thislist[2:5])\n",
    "# Nota: la ricerca inizierà dall'indice 2 (incluso) e terminerà dall'indice 5 (non incluso). Ricorda che il primo elemento ha indice 0.\n",
    "# Tralasciando il valore iniziale, l'intervallo inizierà dal primo elemento:\n"
   ]
  },
  {
   "cell_type": "markdown",
   "id": "51a697bb-b48d-43f0-b6b7-824b530cef49",
   "metadata": {
    "id": "51a697bb-b48d-43f0-b6b7-824b530cef49"
   },
   "source": [
    "### Esempio\n",
    "In questo esempio vengono restituiti gli elementi dall'inizio, ma NON inclusi, \"kiwi\":\n"
   ]
  },
  {
   "cell_type": "code",
   "execution_count": null,
   "id": "fc22cefb-3e4f-418d-afd9-397f27dde068",
   "metadata": {
    "id": "fc22cefb-3e4f-418d-afd9-397f27dde068",
    "outputId": "8e56a8c6-2312-4f18-f745-31d0e2544605"
   },
   "outputs": [
    {
     "name": "stdout",
     "output_type": "stream",
     "text": [
      "['apple', 'banana', 'cherry', 'orange']\n"
     ]
    }
   ],
   "source": [
    "thislist = [\"apple\", \"banana\", \"cherry\", \"orange\", \"kiwi\", \"melon\", \"mango\"]\n",
    "print(thislist[:4])"
   ]
  },
  {
   "cell_type": "markdown",
   "id": "4a891933-1b8f-4baa-a379-7c5d7670352e",
   "metadata": {
    "id": "4a891933-1b8f-4baa-a379-7c5d7670352e"
   },
   "source": [
    "Tralasciando il valore finale, l'intervallo andrà alla fine dell'elenco:\n",
    "### Esempio\n",
    "In questo esempio vengono restituiti gli elementi da \"cherry\" alla fine:"
   ]
  },
  {
   "cell_type": "code",
   "execution_count": null,
   "id": "57a36fcf-c9d5-44af-af55-cf246b0ad6fa",
   "metadata": {
    "id": "57a36fcf-c9d5-44af-af55-cf246b0ad6fa",
    "outputId": "39f2abf3-7506-436d-9ff0-86cf6c258ca3"
   },
   "outputs": [
    {
     "name": "stdout",
     "output_type": "stream",
     "text": [
      "['cherry', 'orange', 'kiwi', 'melon', 'mango']\n"
     ]
    }
   ],
   "source": [
    "thislist = [\"apple\", \"banana\", \"cherry\", \"orange\", \"kiwi\", \"melon\", \"mango\"]\n",
    "print(thislist[2:])"
   ]
  },
  {
   "cell_type": "markdown",
   "id": "2b830ccf-5ac8-42d2-9849-5e6e1d6106ad",
   "metadata": {
    "id": "2b830ccf-5ac8-42d2-9849-5e6e1d6106ad"
   },
   "source": [
    "## Gamma di indici negativi\n",
    "Specificare gli indici negativi se si desidera avviare la ricerca dalla fine dell'elenco:\n",
    "### Esempio\n",
    "In questo esempio vengono restituiti gli elementi da \"orange\" (-4) a, ma NON include \"mango\" (-1):\n"
   ]
  },
  {
   "cell_type": "code",
   "execution_count": null,
   "id": "d19e1630-eef5-4f7c-9ffc-f59232915bfd",
   "metadata": {
    "id": "d19e1630-eef5-4f7c-9ffc-f59232915bfd",
    "outputId": "3cacacc5-9d6c-4748-e6fe-de49271a87f9"
   },
   "outputs": [
    {
     "name": "stdout",
     "output_type": "stream",
     "text": [
      "['orange', 'kiwi', 'melon']\n"
     ]
    }
   ],
   "source": [
    "thislist = [\"apple\", \"banana\", \"cherry\", \"orange\", \"kiwi\", \"melon\", \"mango\"]\n",
    "print(thislist[-4:-1])\n"
   ]
  },
  {
   "cell_type": "markdown",
   "id": "6eda17e5-10be-4762-b72c-2935ee596585",
   "metadata": {
    "id": "6eda17e5-10be-4762-b72c-2935ee596585"
   },
   "source": [
    "## Controlla se l'articolo esiste\n",
    "Per determinare se un elemento specificato è presente in un elenco, utilizzare la parola chiave in:\n",
    "### Example\n"
   ]
  },
  {
   "cell_type": "code",
   "execution_count": null,
   "id": "136c83c4-7b64-45c2-a22e-860581e1298e",
   "metadata": {
    "id": "136c83c4-7b64-45c2-a22e-860581e1298e",
    "outputId": "0589a0d7-5812-4e08-8a43-1bf50c874817"
   },
   "outputs": [
    {
     "name": "stdout",
     "output_type": "stream",
     "text": [
      "Yes, 'apple' is in the fruits list\n"
     ]
    }
   ],
   "source": [
    "# Check if \"apple\" is present in the list:\n",
    "thislist = [\"apple\", \"banana\", \"cherry\"]\n",
    "if \"apple\" in thislist:\n",
    "  print(\"Yes, 'apple' is in the fruits list\")\n"
   ]
  },
  {
   "cell_type": "markdown",
   "id": "ed56462f-ac59-46c4-a331-ae00af49f3c5",
   "metadata": {
    "id": "ed56462f-ac59-46c4-a331-ae00af49f3c5"
   },
   "source": [
    "## Modifichiamo un singolo elemento della lista\n",
    "Modifica valore di un singolo elemento.\n",
    "Per modificare il valore di un elemento specifico, fare riferimento al numero di indice:\n",
    "### Esempio\n"
   ]
  },
  {
   "cell_type": "code",
   "execution_count": null,
   "id": "3f3065a0-fb30-4ccd-9910-936da53798a4",
   "metadata": {
    "id": "3f3065a0-fb30-4ccd-9910-936da53798a4",
    "outputId": "383decb4-f9b0-42ca-e8b2-b007d263963a"
   },
   "outputs": [
    {
     "name": "stdout",
     "output_type": "stream",
     "text": [
      "['apple', 'blackcurrant', 'cherry']\n"
     ]
    }
   ],
   "source": [
    "# Modificare il secondo elemento:\n",
    "thislist = [\"apple\", \"banana\", \"cherry\"]\n",
    "thislist[1] = \"blackcurrant\"\n",
    "print(thislist)\n"
   ]
  },
  {
   "cell_type": "markdown",
   "id": "ead373cd-cdfe-427d-ad18-baf62eddd866",
   "metadata": {
    "id": "ead373cd-cdfe-427d-ad18-baf62eddd866"
   },
   "source": [
    "## Modificare un intervallo di valori di elemento\n",
    "Per modificare il valore degli elementi all'interno di un intervallo specifico, definire un elenco con i nuovi valori e fare riferimento all'intervallo di numeri di indice in cui si desidera inserire i nuovi valori:\n",
    "### Esempio\n"
   ]
  },
  {
   "cell_type": "code",
   "execution_count": null,
   "id": "f670c861-7782-488f-a0ff-291bcce77fd3",
   "metadata": {
    "id": "f670c861-7782-488f-a0ff-291bcce77fd3",
    "outputId": "044d3274-1121-49c7-f7c0-1514ff54ebcb"
   },
   "outputs": [
    {
     "name": "stdout",
     "output_type": "stream",
     "text": [
      "['apple', 'blackcurrant', 'watermelon', 'orange', 'kiwi', 'mango']\n"
     ]
    }
   ],
   "source": [
    "# Modificare i valori \"banana\" e \"ciliegia\" con i valori \"ribes nero\" e \"anguria\":\n",
    "thislist = [\"apple\", \"banana\", \"cherry\", \"orange\", \"kiwi\", \"mango\"]\n",
    "thislist[1:3] = [\"blackcurrant\", \"watermelon\"]\n",
    "print(thislist)\n"
   ]
  },
  {
   "cell_type": "markdown",
   "id": "4ebc9b67-e9d8-439a-a76b-270a33a36e1d",
   "metadata": {
    "id": "4ebc9b67-e9d8-439a-a76b-270a33a36e1d"
   },
   "source": [
    "Se si inseriscono più elementi di quelli sostituiti, i nuovi elementi verranno inseriti nel punto specificato e gli elementi rimanenti verranno spostati di conseguenza:\n",
    "### Esempio\n"
   ]
  },
  {
   "cell_type": "code",
   "execution_count": null,
   "id": "6c696fd1-d6c5-48df-ab42-3072f4b5a071",
   "metadata": {
    "id": "6c696fd1-d6c5-48df-ab42-3072f4b5a071",
    "outputId": "89fdc56d-5277-480f-9933-6d65885d3b36"
   },
   "outputs": [
    {
     "name": "stdout",
     "output_type": "stream",
     "text": [
      "['apple', 'blackcurrant', 'watermelon', 'cherry']\n"
     ]
    }
   ],
   "source": [
    "# Modificare il secondo valore sostituendolo con due nuovi valori:\n",
    "thislist = [\"apple\", \"banana\", \"cherry\"]\n",
    "thislist[1:2] = [\"blackcurrant\", \"watermelon\"]\n",
    "print(thislist)\n",
    "# Nota: la lunghezza dell'elenco cambia quando il numero di elementi inseriti non corrisponde al numero di elementi sostituiti."
   ]
  },
  {
   "cell_type": "markdown",
   "id": "4e67877f-33a7-4e6b-ba0b-e276d9131531",
   "metadata": {
    "id": "4e67877f-33a7-4e6b-ba0b-e276d9131531"
   },
   "source": [
    "Se si inseriscono meno elementi di quelli sostituiti, i nuovi elementi verranno inseriti nel punto specificato e gli elementi rimanenti verranno spostati di conseguenza:\n",
    "### Esempio\n"
   ]
  },
  {
   "cell_type": "code",
   "execution_count": null,
   "id": "1396a4db-08a5-4a0d-b375-379ddb580263",
   "metadata": {
    "id": "1396a4db-08a5-4a0d-b375-379ddb580263",
    "outputId": "14d34430-4bff-4a84-acdb-d0cea3a736ff"
   },
   "outputs": [
    {
     "name": "stdout",
     "output_type": "stream",
     "text": [
      "['apple', 'watermelon']\n"
     ]
    }
   ],
   "source": [
    "# Modificare il secondo e il terzo valore sostituendoli con un valore:\n",
    "thislist = [\"apple\", \"banana\", \"cherry\"]\n",
    "thislist[1:3] = [\"watermelon\"]\n",
    "print(thislist)\n"
   ]
  },
  {
   "cell_type": "markdown",
   "id": "f391ffa6-5dd7-4d45-a796-0dcf783a4d5b",
   "metadata": {
    "id": "f391ffa6-5dd7-4d45-a796-0dcf783a4d5b"
   },
   "source": [
    "## Inserisci elementi\n",
    "Per inserire una nuova voce di elenco, senza sostituire nessuno dei valori esistenti, possiamo usare il metodo insert(). Il metodo insert() inserisce un elemento in corrispondenza dell'indice specificato:\n",
    "### Esempio\n"
   ]
  },
  {
   "cell_type": "code",
   "execution_count": null,
   "id": "be2ae3c2-5c8b-4d0c-82ce-18cf7d2f9606",
   "metadata": {
    "id": "be2ae3c2-5c8b-4d0c-82ce-18cf7d2f9606",
    "outputId": "ccfd08eb-e43c-4b6f-c621-53fec960adf0"
   },
   "outputs": [
    {
     "name": "stdout",
     "output_type": "stream",
     "text": [
      "['apple', 'banana', 'watermelon', 'cherry']\n"
     ]
    }
   ],
   "source": [
    "# Inserisci \"anguria\" come terzo elemento:\n",
    "thislist = [\"apple\", \"banana\", \"cherry\"]\n",
    "thislist.insert(2, \"watermelon\")\n",
    "print(thislist)\n"
   ]
  },
  {
   "cell_type": "markdown",
   "id": "59101a79-6f1c-4072-8013-e17635ba00bc",
   "metadata": {
    "id": "59101a79-6f1c-4072-8013-e17635ba00bc"
   },
   "source": [
    "## Aggiungiamo elementi ad una lista\n",
    "\n",
    "### Aggiungi elementi\n",
    "Per aggiungere un elemento alla fine dell'elenco, utilizzare il metodo append():\n",
    "### Esempio\n"
   ]
  },
  {
   "cell_type": "code",
   "execution_count": null,
   "id": "8dc50c18-2eb1-4030-b05d-af9855da1f07",
   "metadata": {
    "id": "8dc50c18-2eb1-4030-b05d-af9855da1f07",
    "outputId": "216708aa-afb0-4838-927f-e19f1a452937"
   },
   "outputs": [
    {
     "name": "stdout",
     "output_type": "stream",
     "text": [
      "['apple', 'banana', 'cherry', 'orange']\n"
     ]
    }
   ],
   "source": [
    "# Utilizzo del metodo append() per aggiungere un elemento:\n",
    "thislist = [\"apple\", \"banana\", \"cherry\"]\n",
    "thislist.append(\"orange\")\n",
    "print(thislist)\n"
   ]
  },
  {
   "cell_type": "code",
   "execution_count": null,
   "id": "c3f74ae2-795e-4d01-93fd-8cc4df09f4ac",
   "metadata": {
    "id": "c3f74ae2-795e-4d01-93fd-8cc4df09f4ac",
    "outputId": "24b0e286-f647-43df-e6b7-fb6ce2fc6d06"
   },
   "outputs": [
    {
     "ename": "SyntaxError",
     "evalue": "unterminated string literal (detected at line 3) (1839185123.py, line 3)",
     "output_type": "error",
     "traceback": [
      "\u001b[1;36m  Cell \u001b[1;32mIn[41], line 3\u001b[1;36m\u001b[0m\n\u001b[1;33m    Il metodo insert() inserisce un elemento in corrispondenza dell'indice specificato:\u001b[0m\n\u001b[1;37m                                                                   ^\u001b[0m\n\u001b[1;31mSyntaxError\u001b[0m\u001b[1;31m:\u001b[0m unterminated string literal (detected at line 3)\n"
     ]
    }
   ],
   "source": [
    "## Inserisci elementi\n",
    "Per inserire una voce di elenco in corrispondenza di un indice specificato, utilizzare il metodo insert().\n",
    "Il metodo insert() inserisce un elemento in corrispondenza dell'indice specificato:\n",
    "### Esempio\n"
   ]
  },
  {
   "cell_type": "code",
   "execution_count": null,
   "id": "93713b49-bada-41ae-a0ea-753130af6dfd",
   "metadata": {
    "id": "93713b49-bada-41ae-a0ea-753130af6dfd"
   },
   "outputs": [],
   "source": [
    "# Inserire un elemento come seconda posizione:\n",
    "thislist = [\"apple\", \"banana\", \"cherry\"]\n",
    "thislist.insert(1, \"orange\")\n",
    "print(thislist)\n",
    "# Note: As a result of the examples above, the lists will now contain 4 items."
   ]
  },
  {
   "cell_type": "markdown",
   "id": "13a74ce4-2cee-4d48-b036-bdfed6e5f575",
   "metadata": {
    "id": "13a74ce4-2cee-4d48-b036-bdfed6e5f575"
   },
   "source": [
    "## Estendi elenco\n",
    "Per aggiungere elementi da un altro elenco all'elenco corrente, utilizzare il metodo extend().\n",
    "### Esempio\n"
   ]
  },
  {
   "cell_type": "code",
   "execution_count": null,
   "id": "708d6b75-ac37-4db8-9d61-957d0ef08423",
   "metadata": {
    "id": "708d6b75-ac37-4db8-9d61-957d0ef08423"
   },
   "outputs": [],
   "source": [
    "# Aggiungi gli elementi di tropicale a questa lista:\n",
    "thislist = [\"apple\", \"banana\", \"cherry\"]\n",
    "tropical = [\"mango\", \"pineapple\", \"papaya\"]\n",
    "thislist.extend(tropical)\n",
    "print(thislist)\n",
    "# Gli elementi verranno aggiunti alla fine dell'elenco.\n",
    "# Aggiungi qualsiasi iterabile\n",
    "# Il metodo extend() non deve aggiungere elenchi, è possibile aggiungere qualsiasi oggetto iterabile (tuple, set, dizionari ecc.).\n",
    "# Esempio\n",
    "# Aggiungere elementi di una tupla a un elenco:\n",
    "thislist = [\"apple\", \"banana\", \"cherry\"]\n",
    "thistuple = (\"kiwi\", \"orange\")\n",
    "thislist.extend(thistuple)\n",
    "print(thislist)\n"
   ]
  },
  {
   "cell_type": "markdown",
   "id": "1d148afd-dfa8-424a-8565-36944ada3556",
   "metadata": {
    "id": "1d148afd-dfa8-424a-8565-36944ada3556"
   },
   "source": [
    "## Rimuoviamo elementi da una lista\n",
    "Rimuovi elemento specificato\n",
    "Il metodo remove() rimuove l'elemento specificato.\n",
    "### Esempio"
   ]
  },
  {
   "cell_type": "code",
   "execution_count": null,
   "id": "67b5ffb2-8a97-4fff-8411-90a0d129d9fa",
   "metadata": {
    "id": "67b5ffb2-8a97-4fff-8411-90a0d129d9fa"
   },
   "outputs": [],
   "source": [
    "## Rimuovere \"banana\":\n",
    "thislist = [\"apple\", \"banana\", \"cherry\"]\n",
    "thislist.remove(\"banana\")\n",
    "print(thislist)"
   ]
  },
  {
   "cell_type": "markdown",
   "id": "2d5abde8-ef18-46e5-a57b-f238146001ba",
   "metadata": {
    "id": "2d5abde8-ef18-46e5-a57b-f238146001ba"
   },
   "source": [
    "## Rimuovi indice specificato\n",
    "Il metodo pop() rimuove l'indice specificato.\n",
    "### Esempio"
   ]
  },
  {
   "cell_type": "code",
   "execution_count": null,
   "id": "7d8cdc5f-80b7-4a83-8976-0c11d61f32a2",
   "metadata": {
    "id": "7d8cdc5f-80b7-4a83-8976-0c11d61f32a2"
   },
   "outputs": [],
   "source": [
    "# Rimuovi il secondo elemento:\n",
    "thislist = [\"apple\", \"banana\", \"cherry\"]\n",
    "thislist.pop(1)\n",
    "print(thislist)"
   ]
  },
  {
   "cell_type": "markdown",
   "id": "03ca3847-06ba-44cb-bc35-6fb2314d400c",
   "metadata": {
    "id": "03ca3847-06ba-44cb-bc35-6fb2314d400c"
   },
   "source": [
    "Se non si specifica l'indice, il metodo pop() rimuove l'ultimo elemento.\n",
    "### Esempio\n"
   ]
  },
  {
   "cell_type": "code",
   "execution_count": null,
   "id": "4ada2001-5c55-44ed-a019-e0eda3cca896",
   "metadata": {
    "id": "4ada2001-5c55-44ed-a019-e0eda3cca896"
   },
   "outputs": [],
   "source": [
    "# Rimuovere l'ultimo elemento:\n",
    "thislist = [\"apple\", \"banana\", \"cherry\"]\n",
    "thislist.pop()\n",
    "print(thislist)\n"
   ]
  },
  {
   "cell_type": "markdown",
   "id": "d71ea0a5-cf18-4344-9b88-c3b33fa63432",
   "metadata": {
    "id": "d71ea0a5-cf18-4344-9b88-c3b33fa63432"
   },
   "source": [
    "La parola chiave **del** rimuove anche l'indice specificato:\n",
    "Esempio"
   ]
  },
  {
   "cell_type": "code",
   "execution_count": null,
   "id": "250f93bf-8593-4c8d-8b46-04a50f4cefc6",
   "metadata": {
    "id": "250f93bf-8593-4c8d-8b46-04a50f4cefc6"
   },
   "outputs": [],
   "source": [
    "# Rimuovere il primo elemento:\n",
    "thislist = [\"apple\", \"banana\", \"cherry\"]\n",
    "del thislist[0]\n",
    "print(thislist)\n"
   ]
  },
  {
   "cell_type": "markdown",
   "id": "c88ee008-4bf0-44fc-bf62-a36b1a19ade5",
   "metadata": {
    "id": "c88ee008-4bf0-44fc-bf62-a36b1a19ade5"
   },
   "source": [
    "La parola chiave del può anche eliminare completamente l'elenco.\n",
    "### Esempio\n"
   ]
  },
  {
   "cell_type": "code",
   "execution_count": null,
   "id": "9f08d6bc-e07e-4744-91a6-a6376a14f8a3",
   "metadata": {
    "id": "9f08d6bc-e07e-4744-91a6-a6376a14f8a3"
   },
   "outputs": [],
   "source": [
    "# Eliminare l'intero elenco:\n",
    "thislist = [\"apple\", \"banana\", \"cherry\"]\n",
    "del thislist"
   ]
  },
  {
   "cell_type": "markdown",
   "id": "907155e1-414e-4a8f-b788-620f3b67471f",
   "metadata": {
    "id": "907155e1-414e-4a8f-b788-620f3b67471f"
   },
   "source": [
    "## Cancella l'elenco\n",
    "Il metodo clear() svuota l'elenco.\n",
    "L'elenco rimane ancora, ma non ha contenuto.\n",
    "### Esempio"
   ]
  },
  {
   "cell_type": "code",
   "execution_count": null,
   "id": "9537059a-ef12-4a68-9ecc-0af5189f07b1",
   "metadata": {
    "id": "9537059a-ef12-4a68-9ecc-0af5189f07b1"
   },
   "outputs": [],
   "source": [
    "# Cancella il contenuto dell'elenco:\n",
    "thislist = [\"apple\", \"banana\", \"cherry\"]\n",
    "thislist.clear()\n",
    "print(thislist)"
   ]
  },
  {
   "cell_type": "markdown",
   "id": "9758f38b-bc06-4d92-8f95-bd06a96a8e43",
   "metadata": {
    "id": "9758f38b-bc06-4d92-8f95-bd06a96a8e43"
   },
   "source": [
    "## Esploriamo una lista\n",
    "\n",
    "### Scorrere un elenco\n",
    "È possibile scorrere le voci dell'elenco utilizzando un ciclo for:\n",
    "### Esempio\n"
   ]
  },
  {
   "cell_type": "code",
   "execution_count": null,
   "id": "5690711c-90fe-42b3-973b-1832ebcc63d0",
   "metadata": {
    "id": "5690711c-90fe-42b3-973b-1832ebcc63d0"
   },
   "outputs": [],
   "source": [
    " # Stampa tutti gli elementi dell'elenco, uno per uno:\n",
    "thislist = [\"apple\", \"banana\", \"cherry\"]\n",
    "for x in thislist:\n",
    "  print(x)\n"
   ]
  },
  {
   "cell_type": "markdown",
   "id": "9e52e274-5e2f-42e1-8eee-2e67b7035fab",
   "metadata": {
    "id": "9e52e274-5e2f-42e1-8eee-2e67b7035fab"
   },
   "source": [
    "## Scorri i numeri indice\n",
    "È inoltre possibile scorrere le voci dell'elenco facendo riferimento al relativo numero di indice.\n",
    "\n",
    "Utilizzare le funzioni range() e len() per creare un iterabile adatto.\n",
    "### Esempio\n"
   ]
  },
  {
   "cell_type": "code",
   "execution_count": null,
   "id": "be0fdf7e-edc6-46ff-b894-554dfb63c702",
   "metadata": {
    "id": "be0fdf7e-edc6-46ff-b894-554dfb63c702"
   },
   "outputs": [],
   "source": [
    "# Stampare tutti gli elementi facendo riferimento al relativo numero indice:\n",
    "thislist = [\"apple\", \"banana\", \"cherry\"]\n",
    "for i in range(len(thislist)):\n",
    "  print(thislist[i])\n",
    "# L'iterabile creato nell'esempio precedente è [0, 1, 2].\n"
   ]
  },
  {
   "cell_type": "markdown",
   "id": "64225b0f-0891-4097-a1d4-263eabf338ae",
   "metadata": {
    "id": "64225b0f-0891-4097-a1d4-263eabf338ae"
   },
   "source": [
    "## Utilizzo di un ciclo While\n",
    "È possibile scorrere le voci dell'elenco utilizzando un ciclo while.\n",
    "\n",
    "Utilizzare la funzione len() per determinare la lunghezza dell'elenco, quindi iniziare da 0 e scorrere le voci dell'elenco facendo riferimento ai loro indici.\n",
    "\n",
    "Ricordarsi di aumentare l'indice di 1 dopo ogni iterazione.\n",
    "### Esempio\n"
   ]
  },
  {
   "cell_type": "code",
   "execution_count": null,
   "id": "3bbb2631-f2d6-4272-b4e2-2b33b4a1a0b1",
   "metadata": {
    "id": "3bbb2631-f2d6-4272-b4e2-2b33b4a1a0b1"
   },
   "outputs": [],
   "source": [
    "# Stampare tutti gli elementi, utilizzando un ciclo while per passare attraverso tutti i numeri indice\n",
    "thislist = [\"apple\", \"banana\", \"cherry\"]\n",
    "i = 0\n",
    "while i < len(thislist):\n",
    "  print(thislist[i])\n",
    "  i = i + 1\n"
   ]
  },
  {
   "cell_type": "markdown",
   "id": "05f9d60f-dbfd-4e84-b495-5fdf4b193255",
   "metadata": {
    "id": "05f9d60f-dbfd-4e84-b495-5fdf4b193255"
   },
   "source": [
    "## Scorrimento della lista mediante List Comprehension\n",
    "\n",
    "La list comprehension offre la sintassi più breve per scorrere una lista:\n",
    "\n",
    "### Esempio\n"
   ]
  },
  {
   "cell_type": "code",
   "execution_count": null,
   "id": "ecb374b5-39c5-4d63-abbe-0e6933aa146f",
   "metadata": {
    "id": "ecb374b5-39c5-4d63-abbe-0e6933aa146f"
   },
   "outputs": [],
   "source": [
    "# Il ciclo che stamperà tutti gli elementi in un elenco:\n",
    "thislist = [\"apple\", \"banana\", \"cherry\"]\n",
    "[print(x) for x in thislist]\n"
   ]
  },
  {
   "cell_type": "markdown",
   "id": "c77906b6-0b46-470c-ac76-e662610cad2b",
   "metadata": {
    "id": "c77906b6-0b46-470c-ac76-e662610cad2b"
   },
   "source": [
    "## Esercizi\n",
    "\n",
    "### Es.1\n",
    "Svolgi le domande nel modulo raggiungibile a questo link:\n",
    "\n",
    "https://forms.gle/p4SdKq9kz6Grd4BfA\n"
   ]
  },
  {
   "cell_type": "markdown",
   "id": "bff57b8e-c977-458d-a55c-1a08e1a79a1b",
   "metadata": {
    "id": "bff57b8e-c977-458d-a55c-1a08e1a79a1b"
   },
   "source": [
    "### Es.2\n",
    "Popolare una lista di n elementi con i primi n numeri pari, il valore n viene letto come input.\n",
    "\n",
    "Dopo averli inseriti visualizzare in output i valori memorizzati nella lista e la loro posizione.\n",
    "\n",
    "La stampa finale sarà composta di righe come le seguenti:\n",
    "“l’elemento in posizione 0 vale 7”\n"
   ]
  },
  {
   "cell_type": "code",
   "execution_count": null,
   "id": "787b22c5-bac8-4b07-95e5-0470c4180cc0",
   "metadata": {
    "id": "787b22c5-bac8-4b07-95e5-0470c4180cc0"
   },
   "outputs": [],
   "source": [
    "# Qui la soluzione"
   ]
  },
  {
   "cell_type": "markdown",
   "id": "e83a31f4-0730-49e1-95e1-e2529eba1a2a",
   "metadata": {
    "id": "e83a31f4-0730-49e1-95e1-e2529eba1a2a"
   },
   "source": [
    "### Es.3\n",
    "Popolare una lista di n elementi con i primi n multipli di 5 escludendo lo zero. Dopo aver terminato l’inserimento visualizzare in output i valori della lista e il relativo indice. Anche in questo caso la stampa sarà composta di righe nella forma:\n",
    "“l’elemento in posizione 1 vale 10”\n"
   ]
  },
  {
   "cell_type": "code",
   "execution_count": null,
   "id": "735ca787-19d2-4567-a325-6bb635d05c46",
   "metadata": {
    "id": "735ca787-19d2-4567-a325-6bb635d05c46"
   },
   "outputs": [],
   "source": [
    "# Qui la soluzione"
   ]
  },
  {
   "cell_type": "markdown",
   "id": "72269ca0-a784-4c09-a31f-568da66bb43a",
   "metadata": {
    "id": "72269ca0-a784-4c09-a31f-568da66bb43a"
   },
   "source": [
    "### Es.4\n",
    "Creare una lista di n numeri decimali, sommarli e fare la media. Dopo l’inserimento sommarli e visualizzare in output la somma e la media.\n",
    "Il primo valore letto in input corrisponde al numero di elementi, gli altri sono inseriti in una sola riga separati da spazi.\n",
    "In questo caso si può usare la funzione split() già usata in passato e ottenere direttamente la lista popolata.\n"
   ]
  },
  {
   "cell_type": "code",
   "execution_count": null,
   "id": "3af9c867-b874-4be7-8d87-41bc37a92914",
   "metadata": {
    "id": "3af9c867-b874-4be7-8d87-41bc37a92914"
   },
   "outputs": [],
   "source": [
    "# Qui la soluzione"
   ]
  }
 ],
 "metadata": {
  "colab": {
   "provenance": []
  },
  "kernelspec": {
   "display_name": "Python 3 (ipykernel)",
   "language": "python",
   "name": "python3"
  },
  "language_info": {
   "codemirror_mode": {
    "name": "ipython",
    "version": 3
   },
   "file_extension": ".py",
   "mimetype": "text/x-python",
   "name": "python",
   "nbconvert_exporter": "python",
   "pygments_lexer": "ipython3",
   "version": "3.12.5"
  }
 },
 "nbformat": 4,
 "nbformat_minor": 5
}
