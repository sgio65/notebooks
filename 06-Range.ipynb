{
 "cells": [
  {
   "cell_type": "markdown",
   "id": "05b09e6e-a882-46e3-8f51-2960d567db53",
   "metadata": {},
   "source": [
    "# Funzione range()\n",
    "\n",
    "In questa lezione parleremo del secondo loop (o ciclo) di Python, il ciclo for, e introdurremo una nuova funzione molto importante, la funzione range.\n",
    "\n",
    "Serve a generare sequenze di valori da utilizzare nei cicli e per la generazione di insiemi di dati.\n",
    "\n",
    "Il termine tecnico è <b>iteratore</b>\n",
    "\n"
   ]
  },
  {
   "cell_type": "code",
   "execution_count": 6,
   "id": "77b8b825-e2fe-45b8-b6e4-72f88c5b152f",
   "metadata": {},
   "outputs": [
    {
     "name": "stdout",
     "output_type": "stream",
     "text": [
      "range(0, 10)\n",
      "<class 'range'>\n"
     ]
    }
   ],
   "source": [
    "# non genera una lista di valori ma \"sa generare una lista di valori\"\n",
    "print(range(10))\n",
    "# Vediamo il tipo restituito\n",
    "print(type(range(10)))"
   ]
  },
  {
   "cell_type": "code",
   "execution_count": 3,
   "id": "169091a2-ea61-41bc-bd3c-1fcef851e715",
   "metadata": {},
   "outputs": [
    {
     "name": "stdout",
     "output_type": "stream",
     "text": [
      "{0, 1, 2, 3, 4, 5, 6, 7, 8, 9}\n"
     ]
    }
   ],
   "source": [
    "# Possiamo usarlo per generare insiemi di dati ad esempio un set\n",
    "print(set(range(10)))"
   ]
  },
  {
   "cell_type": "code",
   "execution_count": 4,
   "id": "48c605b1-426c-4496-a439-f1fe017151ff",
   "metadata": {},
   "outputs": [
    {
     "name": "stdout",
     "output_type": "stream",
     "text": [
      "[0, 1, 2, 3, 4, 5, 6, 7, 8, 9]\n"
     ]
    }
   ],
   "source": [
    "# Possiamo usarlo per generare insiemi di dati ad esempio una list\n",
    "print(list(range(10)))"
   ]
  },
  {
   "cell_type": "code",
   "execution_count": 5,
   "id": "51a1e3e4-77dd-4a96-b57c-f4c83c4dfee8",
   "metadata": {},
   "outputs": [
    {
     "name": "stdout",
     "output_type": "stream",
     "text": [
      "(0, 1, 2, 3, 4, 5, 6, 7, 8, 9)\n"
     ]
    }
   ],
   "source": [
    "# Possiamo usarlo per generare insiemi di dati ad esempio una tupla\n",
    "print(tuple(range(10)))"
   ]
  },
  {
   "cell_type": "code",
   "execution_count": 12,
   "id": "a501ad17-855a-49ea-8312-d75cfb577680",
   "metadata": {},
   "outputs": [
    {
     "name": "stdout",
     "output_type": "stream",
     "text": [
      "[0, 1, 2, 3, 4, 5, 6, 7, 8, 9, 10, 11, 12, 13, 14, 15, 16, 17, 18, 19]\n"
     ]
    }
   ],
   "source": [
    "# varianti della funzione range(N)\n",
    "\n",
    "# Con un parametro genera N valori distinti a partire da 0 .. N-1\n",
    "print(list(range(20)))"
   ]
  },
  {
   "cell_type": "code",
   "execution_count": 14,
   "id": "f5011e63-b6e7-472f-81d0-73955eb4f1a6",
   "metadata": {},
   "outputs": [
    {
     "name": "stdout",
     "output_type": "stream",
     "text": [
      "[10, 11, 12, 13, 14, 15, 16, 17, 18, 19]\n"
     ]
    }
   ],
   "source": [
    "# Con due parametri range(M,N) M<N genera un set di valori a partire da M sino a N-1\n",
    "print(list(range(10,20)))\n"
   ]
  },
  {
   "cell_type": "code",
   "execution_count": 15,
   "id": "056f7d57-05df-4c26-aab7-929580ab48c6",
   "metadata": {},
   "outputs": [
    {
     "name": "stdout",
     "output_type": "stream",
     "text": [
      "[]\n"
     ]
    }
   ],
   "source": [
    "# Qui l'insieme sarà vuoto\n",
    "print(list(range(20,10)))"
   ]
  },
  {
   "cell_type": "code",
   "execution_count": 16,
   "id": "1f39ce23-beec-4345-975d-847082dd6c7b",
   "metadata": {},
   "outputs": [
    {
     "name": "stdout",
     "output_type": "stream",
     "text": [
      "[10, 13, 16, 19]\n"
     ]
    }
   ],
   "source": [
    "# con tre parametri range(M,N,I) specifico anche l'incremento\n",
    "print(list(range(10,20,3)))"
   ]
  },
  {
   "cell_type": "code",
   "execution_count": 17,
   "id": "32cf832b-8979-4705-ae7c-d294bb34a1ba",
   "metadata": {},
   "outputs": [
    {
     "name": "stdout",
     "output_type": "stream",
     "text": [
      "[20, 19, 18, 17, 16, 15, 14, 13, 12, 11]\n"
     ]
    }
   ],
   "source": [
    "# Posso usare incrementi negativi\n",
    "\n",
    "print(list(range(20,10,-1))) # ultimo elemento sempre escluso"
   ]
  },
  {
   "cell_type": "markdown",
   "id": "3f447787-00bf-482d-b498-cc3257776184",
   "metadata": {},
   "source": [
    "# Ciclo for \n",
    "\n",
    "Il for loop viene utilizzato in maniera simile al while loop di cui abbiamo parlato nelle lezioni precedenti: essendo entrambi cicli, permettono di ripetere l'esecuzione di una determinata porzione di codice più volte. Tuttavia, le differenze nei meccanismi di funzionamento ne rendono preferibile uno rispetto all'altro a seconda del contesto in cui ci si trova.\n",
    "\n",
    "A livello logico, la differenza col ciclo while è che invece di eseguire il blocco di codice interessato finché la condizione di controllo resta True, il ciclo for esegue questa sezione di programma per un numero specifico di cicli.\n",
    "\n",
    "Uso ii valori generati da range() uno alla volta per governare il ciclo for\n",
    "\n"
   ]
  },
  {
   "cell_type": "code",
   "execution_count": 20,
   "id": "b3c48396-0972-4736-b260-a02bda62d740",
   "metadata": {},
   "outputs": [
    {
     "name": "stdout",
     "output_type": "stream",
     "text": [
      "[0,1,2,3,4,5,6,7,8,9,]\n"
     ]
    }
   ],
   "source": [
    "print(\"[\",end=\"\")\n",
    "for x in range(10):\n",
    "    print(x, end=\",\")\n",
    "print(\"]\")"
   ]
  },
  {
   "cell_type": "code",
   "execution_count": 21,
   "id": "059d98b8-1808-4fc5-80d6-9e3a32fd7cdd",
   "metadata": {},
   "outputs": [
    {
     "name": "stdout",
     "output_type": "stream",
     "text": [
      "[10, 11, 12, 13, 14, 15, 16, 17, 18, 19, 20, 21, 22, 23, 24, 25, 26, 27, 28, 29, 30, 31, 32, 33, 34, 35, 36, 37, 38, 39, 40, 41, 42, 43, 44, 45, 46, 47, 48, 49, ]\n"
     ]
    }
   ],
   "source": [
    "print(\"[\",end=\"\")\n",
    "for x in range(10,50):\n",
    "    print(x, end=\", \")\n",
    "print(\"]\")"
   ]
  },
  {
   "cell_type": "code",
   "execution_count": 22,
   "id": "4779295d-614a-4191-b0fd-ce6d9f76818b",
   "metadata": {},
   "outputs": [
    {
     "name": "stdout",
     "output_type": "stream",
     "text": [
      "[10, 12, 14, 16, 18, 20, 22, 24, 26, 28, 30, 32, 34, 36, 38, 40, 42, 44, 46, 48, ]\n"
     ]
    }
   ],
   "source": [
    "print(\"[\",end=\"\")\n",
    "for x in range(10,50,2):\n",
    "    print(x, end=\", \")\n",
    "print(\"]\")"
   ]
  },
  {
   "cell_type": "code",
   "execution_count": 1,
   "id": "4ed80d4d-8315-4383-b545-2fc2ee7338ef",
   "metadata": {},
   "outputs": [
    {
     "name": "stdout",
     "output_type": "stream",
     "text": [
      "-10,-28.4-9,-25.4-8,-22.4-7,-19.4-6,-16.4-5,-13.4-4,-10.4-3,-7.4-2,-4.4-1,-1.40,1.61,4.62,7.63,10.64,13.65,16.66,19.67,22.68,25.69,28.6"
     ]
    }
   ],
   "source": [
    "# Esempi di utilizzo\n",
    "\n",
    "# Calcoliamo i punti di una retta\n",
    "\n",
    "m = 3\n",
    "q = 1.6\n",
    "\n",
    "# la retta y = mx+q\n",
    "# uso range per generare i valori di x da -10 a +10 con passo 1\n",
    "\n",
    "for x in range(-10,10,1):\n",
    "    y = m*x+q\n",
    "    print(x,y,sep=\",\",end=\"\")\n",
    "\n"
   ]
  },
  {
   "cell_type": "code",
   "execution_count": 28,
   "id": "d1b215fb-ca23-4d62-8d58-b9278a0b1018",
   "metadata": {},
   "outputs": [
    {
     "name": "stdout",
     "output_type": "stream",
     "text": [
      "-0.99 -0.98 -0.97 -0.96 -0.95 -0.94 -0.93 -0.92 -0.91 -0.9 \n",
      "-0.89 -0.88 -0.87 -0.86 -0.85 -0.84 -0.83 -0.82 -0.81 -0.8 \n",
      "-0.79 -0.78 -0.77 -0.76 -0.75 -0.74 -0.73 -0.72 -0.71 -0.7 \n",
      "-0.69 -0.68 -0.67 -0.66 -0.65 -0.64 -0.63 -0.62 -0.61 -0.6 \n",
      "-0.59 -0.58 -0.57 -0.56 -0.55 -0.54 -0.53 -0.52 -0.51 -0.5 \n",
      "-0.49 -0.48 -0.47 -0.46 -0.45 -0.44 -0.43 -0.42 -0.41 -0.4 \n",
      "-0.39 -0.38 -0.37 -0.36 -0.35 -0.34 -0.33 -0.32 -0.31 -0.3 \n",
      "-0.29 -0.28 -0.27 -0.26 -0.25 -0.24 -0.23 -0.22 -0.21 -0.2 \n",
      "-0.19 -0.18 -0.17 -0.16 -0.15 -0.14 -0.13 -0.12 -0.11 -0.1 \n",
      "-0.09 -0.08 -0.07 -0.06 -0.05 -0.04 -0.03 -0.02 -0.01 0.0 \n",
      "0.01 0.02 0.03 0.04 0.05 0.06 0.07 0.08 0.09 0.1 \n",
      "0.11 0.12 0.13 0.14 0.15 0.16 0.17 0.18 0.19 0.2 \n",
      "0.21 0.22 0.23 0.24 0.25 0.26 0.27 0.28 0.29 0.3 \n",
      "0.31 0.32 0.33 0.34 0.35 0.36 0.37 0.38 0.39 0.4 \n",
      "0.41 0.42 0.43 0.44 0.45 0.46 0.47 0.48 0.49 0.5 \n",
      "0.51 0.52 0.53 0.54 0.55 0.56 0.57 0.58 0.59 0.6 \n",
      "0.61 0.62 0.63 0.64 0.65 0.66 0.67 0.68 0.69 0.7 \n",
      "0.71 0.72 0.73 0.74 0.75 0.76 0.77 0.78 0.79 0.8 \n",
      "0.81 0.82 0.83 0.84 0.85 0.86 0.87 0.88 0.89 0.9 \n",
      "0.91 0.92 0.93 0.94 0.95 0.96 0.97 0.98 0.99 "
     ]
    }
   ],
   "source": [
    "# Esempio Generiamo 199 valori nel range da -1 a 1 estremi esclusi\n",
    "# Attenzione così non funziona range opera solo con numeri interi\n",
    "# for x in range(0,10,0.1):\n",
    "#     print(x)\n",
    "\n",
    "for i in range(-99,100,1):\n",
    "    x = i/100\n",
    "    print(x, end=\" \")\n",
    "    # per stamparli in form tabellare\n",
    "    if i % 10 == 0:\n",
    "        print()"
   ]
  },
  {
   "cell_type": "code",
   "execution_count": 1,
   "id": "cd98ee3b-ab94-4ac8-b92c-2a2f3e53e1eb",
   "metadata": {},
   "outputs": [
    {
     "name": "stdin",
     "output_type": "stream",
     "text": [
      "N= 56\n"
     ]
    },
    {
     "name": "stdout",
     "output_type": "stream",
     "text": [
      "1 56\n",
      "2 28\n",
      "4 14\n",
      "7 8\n",
      "8 7\n",
      "14 4\n"
     ]
    }
   ],
   "source": [
    "# Generiamo coppie di valori il cui prodotto vale N\n",
    "\n",
    "\n",
    "N = int(input(\"N=\"))\n",
    "\n",
    "for v in range(1,N//2):\n",
    "    if N % v == 0:\n",
    "        print(v, N//v)\n",
    "\n"
   ]
  },
  {
   "cell_type": "code",
   "execution_count": null,
   "id": "b8466c4d-da39-4a99-a1fe-9d7a6c61b00c",
   "metadata": {},
   "outputs": [],
   "source": []
  }
 ],
 "metadata": {
  "kernelspec": {
   "display_name": "Python 3 (ipykernel)",
   "language": "python",
   "name": "python3"
  },
  "language_info": {
   "codemirror_mode": {
    "name": "ipython",
    "version": 3
   },
   "file_extension": ".py",
   "mimetype": "text/x-python",
   "name": "python",
   "nbconvert_exporter": "python",
   "pygments_lexer": "ipython3",
   "version": "3.12.5"
  }
 },
 "nbformat": 4,
 "nbformat_minor": 5
}
