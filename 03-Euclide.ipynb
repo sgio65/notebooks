{
 "cells": [
  {
   "cell_type": "markdown",
   "id": "0d49fe1a-0d8f-4d5c-95e4-b6c61e375f56",
   "metadata": {},
   "source": [
    "# Algoritmo di Euclide\n",
    "\n",
    "## Calcolo del Massimo Comun Divisore (MCD)\n",
    "\n",
    "Algoritmo di Euclide è un procedimento algebrico che permette di calcolare il massimo comun divisore tra due numeri interi attraverso un numero finito di passi basati sul calcolo di alcune divisioni.\n",
    "Alla scuola media abbiamo imparato a calcolare il massimo comun divisore tra due numeri naturali e ricorrendo alla scomposizione in fattori primi.\n",
    "\n",
    "Quando però i numeri iniziano a diventare leggermente grandi scomporre in fattori primi risulta sempre più difficile anche perché non si ricorda bene quali siano i numeri primi maggiori di 100. In questi casi ci viene in aiuto algoritmo di euclide il quale attraverso il calcolo di alcune semplici divisioni ci fornisce il massimo comun divisore cercando.\n",
    "\n",
    "Passi dell'algoritmo di euclide:\n",
    "\n",
    "siano A e B due numeri naturali co B minore di A.\n",
    "\n",
    "1)\tSe b=0 allora mcd(a,b) = a (qualsiasi numero diverso da 0 è un divisore di 0)\n",
    "2)\tSe b!=0 si svolge la divisione intera tra A e B per ricavare il resto R che sarà un valore compreso tra 0 incluso e b escluso\n",
    "3)\tPorre A=B e B=R\n",
    "4)\tRipetere la sequenza dei passi a partire dal passo 1\n",
    "\n",
    "L'algoritmo procede finché non si trova un valore di B pari a 0.\n",
    "\n",
    "Vediamo il diagramma di flusso\n",
    "\n",
    "![Euclide Flow Chart](images/MCD.drawio.png)\n",
    "\n",
    "## Esercizio\n",
    "\n",
    "Prova l'algoritmo con diverse coppie di valori A,B costruendo le relative tavole della verità\n",
    "\n",
    "## Codifica in linguaggio Python\n"
   ]
  },
  {
   "cell_type": "code",
   "execution_count": 4,
   "id": "07ccc579-e084-4cb1-9469-6b0ddab387f0",
   "metadata": {},
   "outputs": [
    {
     "name": "stdin",
     "output_type": "stream",
     "text": [
      "Primo valore: 34\n",
      "Secondo valore: 12\n"
     ]
    },
    {
     "name": "stdout",
     "output_type": "stream",
     "text": [
      "Il massimo comun divisore vale:  2\n"
     ]
    }
   ],
   "source": [
    "# Leggiamo A,B utilizzando la funzione input per assegnare automaticamente i due valori\n",
    "# alle variabili, ricordiamo che il dato restituito da input è di classe str (testo) \n",
    "# quindi occorre convertirlo\n",
    "\n",
    "A = int(input(\"Primo valore:\"))\n",
    "B = int(input(\"Secondo valore:\"))\n",
    "              \n",
    "# Eseguimo il ciclo di calcolo utilizzando la parola chiave while (mentre) \n",
    "# Il ciclo rimane attivo con la condizione vera, si conclude non appena la condizione \n",
    "# diventa falsa (B diventa 0)\n",
    "\n",
    "while B != 0:\n",
    "    R = A%B\n",
    "    A=B\n",
    "    B=R\n",
    "\n",
    "print(\"Il massimo comun divisore vale: \", A)\n"
   ]
  },
  {
   "cell_type": "markdown",
   "id": "eb15ae46-1b6f-4463-bab0-6725ae02538a",
   "metadata": {},
   "source": [
    "## Miglioriamo il programma\n",
    "\n",
    "Modifichiamo il diagramma di flusso in modo che vengano conservati \n",
    "i valori iniziali A,B per poter produrre un messaggio finale più significativo\n",
    "ad esempio:\n",
    "\n",
    "\"Il massimo comun divisore tra 34 e 12 vale 2\"\n",
    "\n",
    "![Euclide Flow Chart](images/Euclide.drawio.png)\n"
   ]
  },
  {
   "cell_type": "code",
   "execution_count": 2,
   "id": "84d8637a-da0b-45bb-b917-6110570aa532",
   "metadata": {},
   "outputs": [
    {
     "name": "stdin",
     "output_type": "stream",
     "text": [
      "Inserisci due valori separati da spazio 34 12\n"
     ]
    },
    {
     "name": "stdout",
     "output_type": "stream",
     "text": [
      "Il massimo comun divisore tra 34 ed 12 vale:  2\n"
     ]
    }
   ],
   "source": [
    "# Leggiamo N1,N2 utilizzando la funzione map per assegnare automaticamente i due valori\n",
    "# alle variabili e convertirli in valori interi automaticamente\n",
    "\n",
    "N1,N2 = map(int, input(\"Inserisci due valori separati da spazio\").strip().split())\n",
    "\n",
    "# copiamo i valori in A,B\n",
    "A = N1\n",
    "B = N2\n",
    "\n",
    "# Eseguimo il ciclo di calcolo utilizzando la parola chiave while (mentre) \n",
    "# Il ciclo rimane attivo con la condizione vera, si conclude non appena la condizione \n",
    "# diventa falsa (B diventa 0)\n",
    "\n",
    "while B != 0:\n",
    "    R = A%B\n",
    "    A=B\n",
    "    B=R\n",
    "\n",
    "print(\"Il massimo comun divisore tra\",N1,\"ed\",N2, \"vale: \", A)"
   ]
  },
  {
   "cell_type": "markdown",
   "id": "5ecd5e90-0f1b-4e9a-933f-712559c761d0",
   "metadata": {},
   "source": [
    "## Esercizio\n",
    "\n",
    "La riduzione di una frazione ai minimi termini è un procedimento algebrico che permette di semplificare una frazione eliminando tutti i divisori in comune tra numeratore e denominatore e permette di semplificare notevolmente i calcoli.\n",
    "\n",
    "Per ridurre una frazione ai minimi termini possiamo semplicemente calcolare il massimo comun divisore tra numeratore e denominatore e quindi trovare la frazione ridotta dividendo il numeratore e denominatore per il risultato\n",
    "\n",
    "Scrivi un programma in grado di semplificare una frazione secondo l'algoritmo descritto"
   ]
  },
  {
   "cell_type": "code",
   "execution_count": null,
   "id": "10dc8491-edd5-43c4-8750-748ab3e0aba5",
   "metadata": {},
   "outputs": [],
   "source": [
    "# Proponi qui il tuo codice\n"
   ]
  },
  {
   "cell_type": "markdown",
   "id": "2060d431-95d1-43e1-b786-a08736d250ac",
   "metadata": {},
   "source": [
    "## Minimo comune Multiplo (mcm)\n",
    "\n",
    "Per il calcolo del minimo comune multiplo (mcm) possiamo usare il seguente algoritmo:\n",
    "\n",
    "1) Letti i numeri A,B\n",
    "2) produciamo i loro multipli per somme succesive sino a trovare due valori uguali\n",
    "3) il risultato raggiunto è il mcm\n",
    "\n",
    "![MCM Flow Chart](images/06-MCM.drawio.png)\n"
   ]
  },
  {
   "cell_type": "code",
   "execution_count": 6,
   "id": "377b6e96-acc9-48a8-b481-21ea7d2084b6",
   "metadata": {},
   "outputs": [
    {
     "name": "stdin",
     "output_type": "stream",
     "text": [
      "Inserisci due valori separati da spazio 23 56\n"
     ]
    },
    {
     "name": "stdout",
     "output_type": "stream",
     "text": [
      "Il Minimo comune multiplo tra 23 e 56 vale 1288\n"
     ]
    }
   ],
   "source": [
    "# Leggiamo A,B utilizzando la funzione map per assegnare automaticamente i due valori\n",
    "# alle variabili e convertirli in valori interi automaticamente\n",
    "\n",
    "A,B = map(int, input(\"Inserisci due valori separati da spazio\").strip().split())\n",
    "\n",
    "# copiamo i valori in MA,MB\n",
    "MA = A\n",
    "MB = B\n",
    "\n",
    "while MA != MB:\n",
    "    if MA > MB:\n",
    "        MB = MB+B\n",
    "    else:\n",
    "        MA = MA+A\n",
    "mcm = MA\n",
    "print(\"Il Minimo comune multiplo tra\",A,\"e\",B,\"vale\", mcm)"
   ]
  }
 ],
 "metadata": {
  "kernelspec": {
   "display_name": "Python 3 (ipykernel)",
   "language": "python",
   "name": "python3"
  },
  "language_info": {
   "codemirror_mode": {
    "name": "ipython",
    "version": 3
   },
   "file_extension": ".py",
   "mimetype": "text/x-python",
   "name": "python",
   "nbconvert_exporter": "python",
   "pygments_lexer": "ipython3",
   "version": "3.12.5"
  }
 },
 "nbformat": 4,
 "nbformat_minor": 5
}
