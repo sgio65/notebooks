{
 "cells": [
  {
   "cell_type": "markdown",
   "id": "43ccbeb4-e25c-4578-9c01-28e5a4f73016",
   "metadata": {
    "id": "43ccbeb4-e25c-4578-9c01-28e5a4f73016"
   },
   "source": [
    "# String in Python\n",
    "\n",
    "## String\n",
    "\n",
    "Le stringhe in python sono racchiuse tra virgolette singole o doppie, “ciao” è uguale a 'ciao'. È possibile visualizzare un valore letterale stringa con la funzione print():\n"
   ]
  },
  {
   "cell_type": "code",
   "execution_count": null,
   "id": "c4c29a82-c1bc-4e81-96be-0dcdadb21f88",
   "metadata": {
    "id": "c4c29a82-c1bc-4e81-96be-0dcdadb21f88",
    "outputId": "4af59a02-96e5-4892-f5e4-b92f6a417b0f"
   },
   "outputs": [
    {
     "name": "stdout",
     "output_type": "stream",
     "text": [
      "Hello\n",
      "Hello\n"
     ]
    }
   ],
   "source": [
    "# Esempio\n",
    "print(\"Hello\")\n",
    "print('Hello')"
   ]
  },
  {
   "cell_type": "markdown",
   "id": "0cd06122-4469-4472-b732-1c068e10730c",
   "metadata": {
    "id": "0cd06122-4469-4472-b732-1c068e10730c"
   },
   "source": [
    "## Assegnare una stringa a una variabile\n",
    "L'assegnazione di una stringa a una variabile viene eseguita con il nome della variabile seguito da un segno di uguale e dalla stringa:"
   ]
  },
  {
   "cell_type": "code",
   "execution_count": null,
   "id": "2c32fe08-3ff0-4161-8f37-bdf74b4f4604",
   "metadata": {
    "id": "2c32fe08-3ff0-4161-8f37-bdf74b4f4604",
    "outputId": "bd300ba4-02e6-42ff-fbca-d77aae9d16d9"
   },
   "outputs": [
    {
     "name": "stdout",
     "output_type": "stream",
     "text": [
      "Hello\n"
     ]
    }
   ],
   "source": [
    "# Esempio\n",
    "a = \"Hello\"\n",
    "print(a)"
   ]
  },
  {
   "cell_type": "markdown",
   "id": "e0dc31c4-2d79-4a53-a1a8-70d8c541c50e",
   "metadata": {
    "id": "e0dc31c4-2d79-4a53-a1a8-70d8c541c50e"
   },
   "source": [
    "## Stringhe multilinea\n",
    "È possibile assegnare una stringa multiriga a una variabile utilizzando tre virgolette:\n",
    "\n",
    "### Esempio\n",
    "È possibile utilizzare tre virgolette doppie:\n"
   ]
  },
  {
   "cell_type": "code",
   "execution_count": null,
   "id": "3d8eba19-f8a4-47e9-8b69-b7c73c6c3df1",
   "metadata": {
    "id": "3d8eba19-f8a4-47e9-8b69-b7c73c6c3df1",
    "outputId": "d292bae1-2bc5-4fc0-e4e6-25602bf6a79d"
   },
   "outputs": [
    {
     "name": "stdout",
     "output_type": "stream",
     "text": [
      "Lorem ipsum dolor sit amet,\n",
      "consectetur adipiscing elit,\n",
      "sed do eiusmod tempor incididunt\n",
      "ut labore et dolore magna aliqua.\n",
      "Lorem ipsum dolor sit amet,\n",
      "consectetur adipiscing elit,\n",
      "sed do eiusmod tempor incididunt\n",
      "ut labore et dolore magna aliqua.\n"
     ]
    }
   ],
   "source": [
    "# Esempio\n",
    "a = \"\"\"Lorem ipsum dolor sit amet,\n",
    "consectetur adipiscing elit,\n",
    "sed do eiusmod tempor incididunt\n",
    "ut labore et dolore magna aliqua.\"\"\"\n",
    "print(a)\n",
    "\n",
    "# Oppure\n",
    "a = '''Lorem ipsum dolor sit amet,\n",
    "consectetur adipiscing elit,\n",
    "sed do eiusmod tempor incididunt\n",
    "ut labore et dolore magna aliqua.'''\n",
    "print(a)"
   ]
  },
  {
   "cell_type": "markdown",
   "id": "c0e184db-8727-4bf9-8758-b4b5eaf5fd80",
   "metadata": {
    "id": "c0e184db-8727-4bf9-8758-b4b5eaf5fd80"
   },
   "source": [
    "*Nota*: nel risultato, le interruzioni di riga vengono inserite nella stessa posizione del codice.\n",
    "\n",
    "## Le stringhe sono vettori di caratteri\n",
    "\n",
    "Come molti altri linguaggi di programmazione popolari, le stringhe in Python sono matrici di byte che rappresentano caratteri unicode. Tuttavia, Python non ha un tipo di dati carattere, un singolo carattere è semplicemente una stringa con una lunghezza di 1. \n",
    "\n",
    "![Coppie di Interi](images/String.drawio.png)\n",
    "\n",
    "Le parentesi quadre possono essere utilizzate per accedere agli elementi della stringa.\n"
   ]
  },
  {
   "cell_type": "code",
   "execution_count": null,
   "id": "31835a77-6407-4268-84e3-d4b956f0acc7",
   "metadata": {
    "id": "31835a77-6407-4268-84e3-d4b956f0acc7",
    "outputId": "0d77f605-ff4e-4e2c-8fb7-e3996a6aea39"
   },
   "outputs": [
    {
     "name": "stdout",
     "output_type": "stream",
     "text": [
      "e\n"
     ]
    }
   ],
   "source": [
    "# Esempio\n",
    "# Ottieni il carattere nella posizione 1 (ricorda che il primo carattere ha la posizione 0):\n",
    "a = \"Hello, World!\"\n",
    "print(a[1])"
   ]
  },
  {
   "cell_type": "markdown",
   "id": "bb7a4fa6-a28b-4c54-adc4-00b48a87eb91",
   "metadata": {
    "id": "bb7a4fa6-a28b-4c54-adc4-00b48a87eb91"
   },
   "source": [
    "## Scorrere una stringa\n",
    "Poiché le stringhe sono matrici, possiamo scorrere i caratteri in una stringa, con un ciclo for.\n"
   ]
  },
  {
   "cell_type": "code",
   "execution_count": null,
   "id": "5f61ead9-f067-4cbb-9427-1d021ab1fe22",
   "metadata": {
    "id": "5f61ead9-f067-4cbb-9427-1d021ab1fe22"
   },
   "outputs": [],
   "source": [
    "# Esempio\n",
    "# Scorri le lettere della parola \"banana\":\n",
    "for x in \"banana\":\n",
    "  print(x)\n"
   ]
  },
  {
   "cell_type": "markdown",
   "id": "71693fca-2e47-4639-8b6f-8ddda4318e1d",
   "metadata": {
    "id": "71693fca-2e47-4639-8b6f-8ddda4318e1d"
   },
   "source": [
    "## Lunghezza stringa\n",
    "Per ottenere la lunghezza di una stringa, utilizzare la funzione len().\n"
   ]
  },
  {
   "cell_type": "code",
   "execution_count": null,
   "id": "93d12d1a-cf2b-4225-bae6-620b87c010f2",
   "metadata": {
    "id": "93d12d1a-cf2b-4225-bae6-620b87c010f2"
   },
   "outputs": [],
   "source": [
    "# La funzione len() restituisce la lunghezza di una stringa:\n",
    "a = \"Ciao, mondo!\"\n",
    "print(len(a))"
   ]
  },
  {
   "cell_type": "markdown",
   "id": "c65963c4-d194-427c-9ea9-9ae97f6f01b4",
   "metadata": {
    "id": "c65963c4-d194-427c-9ea9-9ae97f6f01b4"
   },
   "source": [
    "## Controlla stringa\n",
    "Per verificare se una determinata frase o carattere è presente in una stringa, possiamo usare la parola chiave **in**."
   ]
  },
  {
   "cell_type": "code",
   "execution_count": null,
   "id": "59ecc660-6619-488b-904f-20af0634cb75",
   "metadata": {
    "id": "59ecc660-6619-488b-904f-20af0634cb75",
    "outputId": "0e7b80de-5389-468b-cc32-e63f93fcb559"
   },
   "outputs": [
    {
     "name": "stdout",
     "output_type": "stream",
     "text": [
      "True\n",
      "Yes, 'free' is present.\n"
     ]
    }
   ],
   "source": [
    "# Esempio\n",
    "# Controlla se \"free\" è presente nel seguente testo:\n",
    "txt = \"The best things in life are free!\"\n",
    "print(\"free\" in txt)\n",
    "\n",
    "# Usalo in un'istruzione if:\n",
    "# Esempio\n",
    "# Stampa solo se è presente \"free\":\n",
    "txt = \"The best things in life are free!\"\n",
    "if \"free\" in txt:\n",
    "  print(\"Yes, 'free' is present.\")\n"
   ]
  },
  {
   "cell_type": "markdown",
   "id": "9bdfaff3-d049-4fd9-9c30-fd898ffaa83c",
   "metadata": {
    "id": "9bdfaff3-d049-4fd9-9c30-fd898ffaa83c"
   },
   "source": [
    "## Controlla l’assenza di una stringa\n",
    "Per verificare se una certa frase o carattere NON è presente in una stringa, possiamo usare la parola chiave **not in**.\n"
   ]
  },
  {
   "cell_type": "code",
   "execution_count": null,
   "id": "11baffa3-4327-450a-a7ba-7bacb1707a33",
   "metadata": {
    "id": "11baffa3-4327-450a-a7ba-7bacb1707a33"
   },
   "outputs": [],
   "source": [
    "# Esempio\n",
    "# Controlla se \" expensive \" NON è presente nel seguente testo:\n",
    "txt = \"The best things in life are free!\"\n",
    "print (\"expensive\" not in txt)\n",
    "\n",
    "# Usalo in un'istruzione if:\n",
    "# Esempio\n",
    "# stampare solo se \"costoso\" NON è presente:\n",
    "txt = \"The best things in life are free!\"\n",
    "if \"expensive\" not in txt:\n",
    "  print(\"No, 'expensive' is NOT present.\")\n"
   ]
  },
  {
   "cell_type": "markdown",
   "id": "5c6d7c99-071c-4a03-9ee3-df893d473b5c",
   "metadata": {
    "id": "5c6d7c99-071c-4a03-9ee3-df893d473b5c"
   },
   "source": [
    "Affettiamo una stringa (slicing)\n",
    "È possibile restituire un intervallo di caratteri utilizzando la sintassi della sezione. Specificare l'indice iniziale e l'indice finale, separati da due punti, per restituire una parte della stringa.\n"
   ]
  },
  {
   "cell_type": "code",
   "execution_count": null,
   "id": "d90140e9-a419-40cb-b0ed-dc176640832d",
   "metadata": {
    "id": "d90140e9-a419-40cb-b0ed-dc176640832d",
    "outputId": "b29cb427-5244-4e22-9540-9a47dc2a8d88"
   },
   "outputs": [
    {
     "name": "stdout",
     "output_type": "stream",
     "text": [
      "llo\n",
      "Hello\n",
      "llo, World!\n"
     ]
    }
   ],
   "source": [
    "# Esempio\n",
    "# Ottieni i caratteri dalla posizione 2 alla posizione 5 (non inclusa):\n",
    "b = \"Hello, World!\"\n",
    "print(b[2:5])\n",
    "\n",
    "# Taglia dall'inizio\n",
    "# Tralasciando l'indice iniziale, l'intervallo inizierà dal primo carattere:\n",
    "# Esempio\n",
    "# Ottieni i caratteri dall'inizio alla posizione 5 (non inclusa):\n",
    "b = \"Hello, World!\"\n",
    "print(b[:5])\n",
    "\n",
    "# Taglia fino alla fine\n",
    "# Tralasciando l'indice finale, l'intervallo andrà alla fine:\n",
    "# Esempio\n",
    "# Prendi i caratteri dalla posizione 2 e fino alla fine:\n",
    "b = \"Hello, World!\"\n",
    "print(b[2:])\n"
   ]
  },
  {
   "cell_type": "markdown",
   "id": "6073777d-5e5b-42c5-b226-425f37cf073f",
   "metadata": {
    "id": "6073777d-5e5b-42c5-b226-425f37cf073f"
   },
   "source": [
    "## Indicizzazione negativa\n",
    "Utilizzare indici negativi per iniziare la sezione dalla fine della stringa:"
   ]
  },
  {
   "cell_type": "code",
   "execution_count": null,
   "id": "678e2df9-8299-47eb-9885-177690a4d23b",
   "metadata": {
    "id": "678e2df9-8299-47eb-9885-177690a4d23b",
    "outputId": "0d41ada1-2d75-4f82-ba5c-975bbc7b9467"
   },
   "outputs": [
    {
     "name": "stdout",
     "output_type": "stream",
     "text": [
      "orl\n"
     ]
    }
   ],
   "source": [
    "# Esempio\n",
    "# Ottieni il singolo carattere:\n",
    "# Da: \"o\" in \"Mondo!\" (posizione -5) a, ma non incluso: \"d\" in \"Mondo!\" (posizione -2):\n",
    "b = \"Hello, World!\"\n",
    "print(b[-5:-2])\n"
   ]
  },
  {
   "cell_type": "markdown",
   "id": "abdc941a-88f7-4eb4-a1a3-fe39d7c7e7fa",
   "metadata": {
    "id": "abdc941a-88f7-4eb4-a1a3-fe39d7c7e7fa"
   },
   "source": [
    "## Modifica stringhe\n",
    "Python ha un set di metodi incorporati che è possibile usare sulle stringhe.\n"
   ]
  },
  {
   "cell_type": "code",
   "execution_count": null,
   "id": "36d48a43-e52d-43eb-a2d3-7e96a9035f71",
   "metadata": {
    "id": "36d48a43-e52d-43eb-a2d3-7e96a9035f71"
   },
   "outputs": [],
   "source": [
    "# Maiuscolo, minuscolo\n",
    "# Esempio\n",
    "# Il metodo upper() restituisce la stringa in maiuscolo:\n",
    "a = \"Hello, World!\"\n",
    "print(a.upper())\n",
    "\n",
    "# The lower() method returns the string in lower case:\n",
    "a = \"Hello, World!\"\n",
    "print(a.lower())\n",
    "\n",
    "# Rimuovi spazi vuoti\n",
    "# Lo spazio bianco è lo spazio prima e/o dopo il testo effettivo e molto spesso si desidera rimuovere questo spazio.\n",
    "\n",
    "# Il metodo strip() rimuove qualsiasi spazio bianco dall'inizio o dalla fine:\n",
    "a = \" Hello, World! \"\n",
    "print(a.strip()) # returns \"Hello, World!\"\n",
    "\n",
    "# Sostituisci stringa\n",
    "# The replace() method replaces a string with another string:\n",
    "a = \"Hello, World!\"\n",
    "print(a.replace(\"H\", \"J\"))\n",
    "\n",
    "# Scomponiamo una stringa\n",
    "# Il metodo split() restituisce una lista in cui il testo tra il separatore specificato diventa le voci dell'elenco.\n",
    "# Il metodo split() divide la stringa in sottostringhe se trova istanze del separatore:\n",
    "a = \"Hello, World!\"\n",
    "print(a.split(\",\")) # returns ['Hello', ' World!']\n"
   ]
  },
  {
   "cell_type": "code",
   "execution_count": null,
   "id": "7b4feee0-e3ba-4d2e-8f9d-83164acbe905",
   "metadata": {
    "id": "7b4feee0-e3ba-4d2e-8f9d-83164acbe905"
   },
   "outputs": [],
   "source": []
  }
 ],
 "metadata": {
  "colab": {
   "provenance": []
  },
  "kernelspec": {
   "display_name": "Python 3 (ipykernel)",
   "language": "python",
   "name": "python3"
  },
  "language_info": {
   "codemirror_mode": {
    "name": "ipython",
    "version": 3
   },
   "file_extension": ".py",
   "mimetype": "text/x-python",
   "name": "python",
   "nbconvert_exporter": "python",
   "pygments_lexer": "ipython3",
   "version": "3.12.5"
  }
 },
 "nbformat": 4,
 "nbformat_minor": 5
}
