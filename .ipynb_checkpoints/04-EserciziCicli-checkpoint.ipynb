{
 "cells": [
  {
   "cell_type": "markdown",
   "id": "beebc461-5c78-40c5-8d50-5dc54853cd54",
   "metadata": {},
   "source": [
    "# Esercizi per Casa (Progetto Eulero)\n",
    "\n",
    "## Multipli di 3 e 5\n",
    "\n",
    "Se elenchiamo tutti i numeri naturali minori di 10 che sono multipli di\n",
    "di 3 o 5, noi abbiamo 3,5,6 e 9. La somma di questi multipli è 23.\n",
    "Trova la somma di tutti i multipli di 3 e 5 che sono minori di 1000."
   ]
  },
  {
   "cell_type": "code",
   "execution_count": null,
   "id": "43beb5bc-b461-47f9-897d-90933becd60f",
   "metadata": {},
   "outputs": [],
   "source": [
    "# Scrivi qui il tuo codice\n",
    "print(\"Multipli di tre e di cinque\")"
   ]
  },
  {
   "cell_type": "markdown",
   "id": "102447cd-ea45-4a47-956c-765a61378233",
   "metadata": {},
   "source": [
    "# I numeri pari di Fibonacci\n",
    "\n",
    "Ogni nuovo termine nella sequenza di Fibonacci viene generato sommando i due termini precedenti. \n",
    "Cominciando con 1,2 i primi dieci termini della serie sono:\n",
    "\n",
    "1,2,3,5,8,13,21,34,55,89\n",
    "\n",
    "Considerando i termini della sequenza di Fibonacci i cui valori non superano i quattro milioni, trovare la somma dei termini di valore pari."
   ]
  },
  {
   "cell_type": "code",
   "execution_count": null,
   "id": "7d08b965-5904-4b5a-9a49-099df9656b0a",
   "metadata": {},
   "outputs": [],
   "source": [
    "# Scrivi qui il tuo codice\n",
    "print(\"Somma di numeri di Fibonacci pari\")"
   ]
  },
  {
   "cell_type": "markdown",
   "id": "27eb1132-0f78-415d-a309-be20ab791df3",
   "metadata": {},
   "source": [
    "# Fattore primo più grande\n",
    "\n",
    "I fattori primi di 13195 sono 5,7,13 e 29, il più grande è quindi 29.\n",
    "\n",
    "Qual è il più grande fattore primo del numero 600851475143?"
   ]
  },
  {
   "cell_type": "code",
   "execution_count": null,
   "id": "c8142fe5-9d09-43b0-9f15-cd9064283edf",
   "metadata": {},
   "outputs": [],
   "source": [
    "print(\"Large prime factor\")\n",
    "\n",
    "# Scrivi qui la tua soluzione"
   ]
  }
 ],
 "metadata": {
  "kernelspec": {
   "display_name": "Python 3 (ipykernel)",
   "language": "python",
   "name": "python3"
  },
  "language_info": {
   "codemirror_mode": {
    "name": "ipython",
    "version": 3
   },
   "file_extension": ".py",
   "mimetype": "text/x-python",
   "name": "python",
   "nbconvert_exporter": "python",
   "pygments_lexer": "ipython3",
   "version": "3.12.5"
  }
 },
 "nbformat": 4,
 "nbformat_minor": 5
}
