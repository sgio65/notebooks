{
 "cells": [
  {
   "cell_type": "markdown",
   "id": "95b6e6d1-86b8-4e74-9ca2-bbab2ca9e296",
   "metadata": {},
   "source": [
    "# Problema 1: Pari o Dispari?\n",
    "\n",
    "Dato un numero intero N, scrivere uno se il numero è pari 0 6 numeri dispari. \n",
    "\n",
    "l'algoritmo è molto semplice se si tiene conto della proprietà della divisione intera per cui la relazione N == (N//K) *K È vera solo se K è un divisore intero di N;\n",
    "diagramma di flusso appare come il seguente:\n",
    "\n",
    "\n",
    "![Pari o Dispari](images/01-PariODispari.drawio.png)\n",
    "\n",
    "\n",
    "Verifica questo algoritmo con due diversi valori di N uno pari e uno dispari ad esempio N=4 e N=5.\n",
    "\n",
    "1. Proponi un algoritmo per il calcolo del resto della divisione intera fra due numeri N ed M nell’ipotesi di disporre del solo operate di divisione intera (//).\n",
    "2. Verifica l’algoritmo calcolando i resto della divisione tra 7 e 3 e tra 15 e 5.\n",
    "\n",
    "\n"
   ]
  },
  {
   "cell_type": "code",
   "execution_count": 1,
   "id": "2e740634-1127-42e5-ab8d-3d2d2a3f83e9",
   "metadata": {},
   "outputs": [
    {
     "name": "stdin",
     "output_type": "stream",
     "text": [
      "Inserisci un numero 3\n"
     ]
    },
    {
     "name": "stdout",
     "output_type": "stream",
     "text": [
      "0 - Dispari\n"
     ]
    }
   ],
   "source": [
    "N = int(input(\"Inserisci un numero\"))\n",
    "\n",
    "if N == (N // 2) * 2:\n",
    "    print(\"1 - Pari\")\n",
    "else:\n",
    "    print(\"0 - Dispari\")\n",
    "\n"
   ]
  },
  {
   "cell_type": "markdown",
   "id": "0dc256d2-fdca-42f2-af57-bacb517daa39",
   "metadata": {},
   "source": [
    "# Problema 2\n",
    "\n",
    "Dati due numeri A e B, scrivi prima il più piccolo e poi il più grande:\n",
    "\n",
    "![In ordine](images/02-InOrdine.drawio.png)\n",
    "\n",
    "1.\tche cosa succede se A e B sono uguali?\n",
    "2.\tRisolvi lo stesso problema nell'ipotesi che nel diagramma di flusso posso comparire solo un blocco di uscita completa la tavola di traccia con una coppia di valori a piacere.\n",
    "3.\trisolvi lo stesso problema nell'ipotesi che i numeri da mettere in ordine siano tre (A,B,C)\n",
    "\n"
   ]
  },
  {
   "cell_type": "code",
   "execution_count": null,
   "id": "3ecb94e9-881b-4064-ae32-0cfdd01e9073",
   "metadata": {},
   "outputs": [],
   "source": [
    "# leggo i dati\n",
    "\n",
    "A = int(input(\"Primo numero\"))\n",
    "B = int(input(\"Secondo numero\"))\n",
    "\n",
    "# Metto in ordine\n",
    "\n",
    "if A>B:\n",
    "    print(B,A)\n",
    "else:\n",
    "    print(A,B)"
   ]
  },
  {
   "cell_type": "markdown",
   "id": "ed3937a2-90c3-4572-98a0-e32363241cda",
   "metadata": {},
   "source": [
    "# Problema 3\n",
    "\n",
    "Giorgio, che studia a Torino, ha deciso di far visita a Gabriele, che studia a Milano. Giorgio sa che durante il periodo che passerà con Gabriele avrà bisogno di fare N viaggi sui mezzi pubblici, e per questo sta indagando sui prezzi dei biglietti. Ha scoperto che a Milano è possibile comprare un biglietto valido per una singola corsa per A centesimi, oppure un blocchetto da M viaggi, al costo di B centesimi.\n",
    "\n",
    "Conoscendo N, M, A e B, quanti centesimi al minimo deve spendere Giorgio per poter fare N corse sui mezzi?\n",
    "\n",
    "## Dati di input\n",
    "\n",
    "I dati di input sono gli interi N, M, A, B.\n",
    "In cui:\n",
    "\n",
    "•\tL’intero N rappresenta il numero di corse che Giorgio deve fare.\n",
    "\n",
    "•\tL’intero M rappresenta il numero di corse che sono comprese in un carnet.\n",
    "\n",
    "•\tL’intero A rappresenta il costo in centesimi di una corsa singola.\n",
    "\n",
    "•\tL’intero B rappresenta il costo in centesimi di un intero carnet.\n",
    "\n",
    "## Dati di output\n",
    "\n",
    "Il dato di output è composto da un’unica riga contenente un unico intero, la risposta a questo problema.\n",
    "\n",
    "## Assunzioni\n",
    "•\t1 < N, M, A, B < 10 000.\n",
    "•\tÈ possibile che Giorgio compri un numero di corse maggiore di N, se conveniente.\n",
    "\n",
    "\n",
    "# Esempi di input/output\n",
    "\n",
    "| Input | Output |\n",
    "--------|-------\n",
    "| 4 10 150 1380 | 600 |\n",
    "| 11 10 150 1380 | 1530 |\n",
    "|10 10 150 1700 | 1500 |\n",
    "|11 10 150 100 | 200 |\n",
    "\n",
    "\n",
    "## Spiegazione\n",
    "\n",
    "* Nel primo caso di esempio conviene comprare 4 biglietti singoli.\n",
    "*\tNel secondo caso di esempio conviene comprare un carnet e un biglietto.\n",
    "*\tNel terzo caso di esempio conviene comprare 10 biglietti singoli.\n",
    "*\tNel quarto caso di esempio conviene comprare due carnet.\n",
    "\n",
    "## Consegna\n",
    "\n",
    "1.\tProponi un diagramma di flusso con le istruzioni da seguire per stabilire la spesa minima in base ai dati di ingresso.\n",
    "2.\tProva il tuo diagramma utilizzando i dati di input presenti negli esempi\n",
    "\n",
    "\n",
    "\n"
   ]
  },
  {
   "cell_type": "markdown",
   "id": "c754ae11-b990-4bb6-9190-4597144e31f1",
   "metadata": {},
   "source": [
    "# Soluzione\n",
    "\n",
    "In forma di diagramma di flusso\n",
    "\n",
    "![title](images/ViaggioAMilano.drawio.png)"
   ]
  },
  {
   "cell_type": "code",
   "execution_count": 2,
   "id": "30093696-068d-461f-bd23-4d261005eba4",
   "metadata": {},
   "outputs": [
    {
     "name": "stdin",
     "output_type": "stream",
     "text": [
      "Inserisci i dati separati da spazio:  11 10 150 1380\n"
     ]
    },
    {
     "name": "stdout",
     "output_type": "stream",
     "text": [
      "1530\n"
     ]
    }
   ],
   "source": [
    "# Soluzione in Python\n",
    "\n",
    "N,M,A,B = map(int, input(\"Inserisci i dati separati da spazio: \").strip().split())\n",
    "\n",
    "costo_solo_bg = N * A\n",
    "costo_mix = (N//M)*B + (N%M) *A\n",
    "costo_solo_bl = (1+N//M) * B\n",
    "\n",
    "costo = costo_solo_bg\n",
    "\n",
    "if costo > costo_mix:\n",
    "    costo = costo_mix\n",
    "if costo > costo_solo_bl:\n",
    "    costo = costo_solo_bl\n",
    "\n",
    "print(costo)"
   ]
  },
  {
   "cell_type": "code",
   "execution_count": null,
   "id": "9ce4cf2a-7ca9-4b0a-8ae8-10af0afd5bbb",
   "metadata": {},
   "outputs": [],
   "source": []
  }
 ],
 "metadata": {
  "kernelspec": {
   "display_name": "Python 3 (ipykernel)",
   "language": "python",
   "name": "python3"
  },
  "language_info": {
   "codemirror_mode": {
    "name": "ipython",
    "version": 3
   },
   "file_extension": ".py",
   "mimetype": "text/x-python",
   "name": "python",
   "nbconvert_exporter": "python",
   "pygments_lexer": "ipython3",
   "version": "3.12.5"
  }
 },
 "nbformat": 4,
 "nbformat_minor": 5
}
