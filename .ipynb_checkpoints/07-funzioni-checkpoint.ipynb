{
 "cells": [
  {
   "cell_type": "markdown",
   "id": "2f68acc5-0424-4cee-8e51-c818c85eca5a",
   "metadata": {},
   "source": [
    "# Funzioni in Python\n",
    "\n",
    "Funzioni predefinite presenti in Python, molte le abbiamo già trovate nelle lezioni precedenti"
   ]
  },
  {
   "cell_type": "code",
   "execution_count": 11,
   "id": "ce81abfb-dad3-420f-96d7-92e46407736f",
   "metadata": {},
   "outputs": [
    {
     "name": "stdout",
     "output_type": "stream",
     "text": [
      "12\n",
      "5\n",
      "Quoziente: 2 Resto: 2\n",
      "244140625\n",
      "12\n",
      "5\n",
      "Quanto lungo è \" Ciao Mondo, questo è un lungo messaggio di testo \": 48\n",
      "0b11011\n",
      "0o33\n",
      "0x1b\n",
      " ,!,\",#,$,%,&,',(,),*,+,,,-,.,/,0,1,2,3,4,5,6,7,8,9,:,;,<,=,>,?,@,A,B,C,D,E,F,G,H,I,J,K,L,M,N,O,\n",
      "65,66,67,68,69,70,71,72,73,76,77,78,79,80,81,82,83,84,85,86,90,\n",
      "<class 'str'> <class 'int'>\n",
      "<class 'str'> <class 'float'>\n"
     ]
    }
   ],
   "source": [
    "# print e input sono funzioni\n",
    "# sono dette impure perchè producono effetti collaterali\n",
    "\n",
    "print(\"Ciao Mondo\")\n",
    "\n",
    "z = input(\"Inserisci un messaggio\")\n",
    "\n",
    "# Funzioni max,min per per il confronto di interi\n",
    "# esempi di funzioni pure senza effetti collaterali\n",
    "\n",
    "x = 5\n",
    "y = 12\n",
    "\n",
    "# trovo il massimo\n",
    "print(max(x,y))\n",
    "# trovo il minimo\n",
    "print(min(x,y))\n",
    "\n",
    "# trovo quoziente e resto in un colpo solo\n",
    "# Returns the quotient and the remainder when argument1 is divided by argument2\n",
    "\n",
    "q,r = divmod(y,x)\n",
    "print(\"Quoziente:\",q,\"Resto:\",r)\n",
    "\n",
    "# Elevamento a potenza\n",
    "# Returns the value of x to the power of y\n",
    "z = pow(x,y)\n",
    "print(z)\n",
    "\n",
    "\n",
    "# Valore assoluto\n",
    "\n",
    "x = 12\n",
    "y = -5\n",
    "\n",
    "print(abs(x))\n",
    "print(abs(y))\n",
    "\n",
    "# Lunghezza di un testo\n",
    "s = \"Ciao Mondo, questo è un lungo messaggio di testo\"\n",
    "\n",
    "print(\"Quanto lungo è \\\"\",s,\"\\\":\", len(s))\n",
    "\n",
    "# Conversioni di base\n",
    "\n",
    "x = 27\n",
    "\n",
    "print(bin(x))\n",
    "print(oct(x))\n",
    "print(hex(x))\n",
    "\n",
    "# Returns a character from the specified Unicode code.\n",
    "\n",
    "for i in range(32,80):\n",
    "    print(chr(i), end=\",\")\n",
    "print()\n",
    "\n",
    "s = \"ABCDEFGHILMNOPQRSTUVZ\"\n",
    "\n",
    "for c in s:\n",
    "    print(ord(c),end=\",\")\n",
    "print()\n",
    "\n",
    "# Conversioni di tipo\n",
    "\n",
    "x = \"12\"\n",
    "y = \"23.4e-12\"\n",
    "\n",
    "ix = int(x)\n",
    "fy = float(y)\n",
    "\n",
    "print(type(x), type(ix))\n",
    "print(type(y), type(fy))\n",
    "\n"
   ]
  },
  {
   "cell_type": "code",
   "execution_count": null,
   "id": "5edc1900-13a6-4ee8-8ae2-8dbb80cae632",
   "metadata": {},
   "outputs": [],
   "source": []
  }
 ],
 "metadata": {
  "kernelspec": {
   "display_name": "Python 3 (ipykernel)",
   "language": "python",
   "name": "python3"
  },
  "language_info": {
   "codemirror_mode": {
    "name": "ipython",
    "version": 3
   },
   "file_extension": ".py",
   "mimetype": "text/x-python",
   "name": "python",
   "nbconvert_exporter": "python",
   "pygments_lexer": "ipython3",
   "version": "3.12.5"
  }
 },
 "nbformat": 4,
 "nbformat_minor": 5
}
