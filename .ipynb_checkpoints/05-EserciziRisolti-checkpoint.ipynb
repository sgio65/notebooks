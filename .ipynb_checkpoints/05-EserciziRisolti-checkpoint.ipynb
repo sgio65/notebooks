{
 "cells": [
  {
   "cell_type": "markdown",
   "id": "1d43dddd-276f-46f3-8e20-364b5a9ade12",
   "metadata": {},
   "source": [
    "# Correzione compito scritto\n",
    "\n",
    "Alcuni esercizi relativi alla prova scritta di ottobre 2024"
   ]
  },
  {
   "cell_type": "markdown",
   "id": "e3d06d5d-d006-4eb4-a584-913af72c4718",
   "metadata": {},
   "source": [
    "## Esercizio 1, 6\n",
    "\n",
    "![Coppie di Interi](images/CoppieInteri.drawio.png)\n",
    "\n",
    "Compilare la tavola di traccia a partire dal diagramma di flusso di Figura 1 nell'ipotesi che il valore lettoin input sia N=36.\n",
    "\n",
    "Facendo riferimento alla figura 1 traduci il diagramma di flusso in codice Python ponendo particolare attenzione alle condizioni logiche e all'identazione del codice\n"
   ]
  },
  {
   "cell_type": "code",
   "execution_count": 6,
   "id": "6de1907b-cd75-423e-9aab-d01f1bc69638",
   "metadata": {},
   "outputs": [
    {
     "name": "stdin",
     "output_type": "stream",
     "text": [
      "Inserisci un numero:  36\n"
     ]
    },
    {
     "name": "stdout",
     "output_type": "stream",
     "text": [
      "36 | 1| 1 36\n",
      "36 | 2| 2 18\n",
      "36 | 3| 3 12\n",
      "36 | 4| 4 9\n",
      "36 | 5| \n",
      "36 | 6| 6 6\n"
     ]
    }
   ],
   "source": [
    "N = int(input(\"Inserisci un numero: \"))\n",
    "\n",
    "K = 1\n",
    "\n",
    "while K**2 <=N:\n",
    "    print(N,K, sep=\" | \", end='| ')\n",
    "    if N % K == 0:\n",
    "        print(K, N//K)\n",
    "    else:\n",
    "        print()\n",
    "    K = K+1\n",
    "        "
   ]
  },
  {
   "cell_type": "markdown",
   "id": "e032cadc-dbe5-466f-b2e1-e3cbec8229a2",
   "metadata": {},
   "source": [
    "## Esercizio 2 - 3\n",
    "\n",
    "Compila la tavola di traccia relativamente ai seguenti codici Python\n"
   ]
  },
  {
   "cell_type": "code",
   "execution_count": 8,
   "id": "046753b6-edd2-4d1e-991a-9d894b79ceda",
   "metadata": {},
   "outputs": [
    {
     "name": "stdout",
     "output_type": "stream",
     "text": [
      "i | j | n\n",
      "0 | 10 | 0\n",
      "1 | 9 | 0\n",
      "2 | 8 | 0\n",
      "3 | 7 | 0\n",
      "4 | 6 | 0\n"
     ]
    }
   ],
   "source": [
    "# Esercizio 2\n",
    "j=10\n",
    "i=0\n",
    "n=0\n",
    "print(\"i\",\"j\",\"n\",sep=\" | \")\n",
    "while i<j:\n",
    "    print(i,j,n,sep=\" | \")\n",
    "    i=i+1\n",
    "    j=j-1\n",
    "    n=n*2\n"
   ]
  },
  {
   "cell_type": "code",
   "execution_count": 9,
   "id": "12a7daad-396a-4048-b54b-69a14427e07f",
   "metadata": {},
   "outputs": [
    {
     "name": "stdout",
     "output_type": "stream",
     "text": [
      "s | n\n",
      "1 | 1\n",
      "2 | 1\n",
      "3 | 1\n",
      "4 | 1\n",
      "5 | 1\n",
      "6 | 1\n",
      "7 | 1\n",
      "8 | 1\n",
      "9 | 1\n"
     ]
    }
   ],
   "source": [
    "# Esercizio 3\n",
    "s=1\n",
    "n=1\n",
    "print(\"s | n\")\n",
    "while s<10:\n",
    "    print(s,n,sep=\" | \")\n",
    "    s=s+n"
   ]
  },
  {
   "cell_type": "code",
   "execution_count": 10,
   "id": "fab249d1-e777-4304-a836-8b15e0cd49fe",
   "metadata": {},
   "outputs": [
    {
     "name": "stdout",
     "output_type": "stream",
     "text": [
      "i | n\n",
      "2 | 0.5\n",
      "3 | 1.0\n",
      "4 | 1.3333333333333333\n",
      "5 | 1.5833333333333333\n"
     ]
    }
   ],
   "source": [
    "n = 1/2\n",
    "i=2\n",
    "print(\"i | n\")\n",
    "while i<6:\n",
    "    print(i,n,sep=\" | \")\n",
    "    n=n+1/i\n",
    "    i=i+1\n"
   ]
  },
  {
   "cell_type": "markdown",
   "id": "789a831e-057d-462f-8248-9942bfb052d0",
   "metadata": {},
   "source": [
    "# Esercizio 7\n",
    "\n",
    "Determina il percorso più veloce, i percorsi sono due ed entrambi contengono dei tratti in aiutostrada, in strada statale e in strada comunale, data la velocità media per ogni tipo di strada determina il percorso con il tempo di percorrenza più breve.\n"
   ]
  },
  {
   "cell_type": "code",
   "execution_count": 12,
   "id": "b8dd081b-a278-41f3-9979-a717fca37871",
   "metadata": {},
   "outputs": [
    {
     "name": "stdin",
     "output_type": "stream",
     "text": [
      "Percorso 1 (autostrada,statale,comunale) (Km) 103 24 32\n",
      "Percorso 2 (autostrada,statale,comunale) (Km) 90 44 23\n"
     ]
    },
    {
     "name": "stdout",
     "output_type": "stream",
     "text": [
      "Percorso più veloce: 2 1.0 ore 57.0 minuti 10 secondi\n"
     ]
    }
   ],
   "source": [
    "A1,S1,C1 = map(int, input(\"Percorso 1 (autostrada,statale,comunale) (Km)\").strip().split())\n",
    "A2,S2,C2 = map(int, input(\"Percorso 2 (autostrada,statale,comunale) (Km)\").strip().split())\n",
    "\n",
    "# Alcune costanti\n",
    "\n",
    "Va = 120 # Km/h autostrada\n",
    "Vs = 70 # Km/h strada statale\n",
    "Vc = 40 # Km/h strada comunale\n",
    "\n",
    "# Calcolo i tempi di viaggio nelle due alternative sommando i parziali\n",
    "# Il risultato sarà floating point con una parte frazionaria da convertire in minuti e secondi\n",
    "\n",
    "t1 = A1 / Va + S1 / Vs + C1 / Vc\n",
    "t2 = A2 / Va + S2 / Vs + C2 / Vc\n",
    "\n",
    "if t1 > t2:\n",
    "    # il percorso più veloce è il secondo\n",
    "    print(\"Percorso più veloce: 2 tempo\", end=\" \")\n",
    "    t = 3600 * t2\n",
    "else:\n",
    "    # il percorso più veloce è il primo\n",
    "    print(\"Percorso più veloce: 1 tempo\", end=\" \")\n",
    "    t = 3600 * t1\n",
    "\n",
    "# stampo il tempo\n",
    "\n",
    "# separo le ore\n",
    "h = t // 3600\n",
    "m = t % 3600\n",
    "# separo minuti e secondi\n",
    "m = m // 60\n",
    "s = s % 60\n",
    "\n",
    "print(h,\"ore\",m,\"minuti\",s,\"secondi\")\n",
    "\n"
   ]
  },
  {
   "cell_type": "code",
   "execution_count": null,
   "id": "ec7c2304-dc40-465a-83d7-a296cf2b2250",
   "metadata": {},
   "outputs": [],
   "source": []
  }
 ],
 "metadata": {
  "kernelspec": {
   "display_name": "Python 3 (ipykernel)",
   "language": "python",
   "name": "python3"
  },
  "language_info": {
   "codemirror_mode": {
    "name": "ipython",
    "version": 3
   },
   "file_extension": ".py",
   "mimetype": "text/x-python",
   "name": "python",
   "nbconvert_exporter": "python",
   "pygments_lexer": "ipython3",
   "version": "3.12.5"
  }
 },
 "nbformat": 4,
 "nbformat_minor": 5
}
