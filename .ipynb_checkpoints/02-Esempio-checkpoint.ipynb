{
 "cells": [
  {
   "cell_type": "markdown",
   "id": "29f38b09-3eea-4d8e-a41b-ee35a71dbc7b",
   "metadata": {},
   "source": [
    "# Moltiplicazione per somme successive\n",
    "\n",
    "L'algoritmo della moltiplicazione epr somme successive è un esempio di ciclo di calcolo molto semplice\n",
    "è chiaro che mai scriveremo un tale algoritmo per calcolare la moltiplicazione tra numeri interi anche se probabilmente l'abbiamo adottato tante volte prima di imparare a memoria le tabelline dalla moltiplicazione.\n",
    "\n",
    "L'ipotesi è che il nostro esecutore non disponga della funzione di moltiplicazione che andremo a sostituire con questo algoritmo:\n",
    "\n",
    "![Somme successive](images/03-PRODOTTO.drawio.png)\n",
    "\n",
    "Dopo aver letto moltiplicando e moltiplicatore procediamo utilizzando una variabile P come accomulatore dei dati parziali e useremo direttamente il valore del moltiplicatore N per contare le operazioni di somma necessarie\n",
    "La variabile P verrà inizializzata a 0 e useremo M per aggiornarne il valore.\n"
   ]
  },
  {
   "cell_type": "code",
   "execution_count": 3,
   "id": "766f8b17-1dd0-44f5-81ea-86e3031c0663",
   "metadata": {},
   "outputs": [
    {
     "name": "stdin",
     "output_type": "stream",
     "text": [
      "Moltiplicando: 23\n",
      "Moltiplicatore: 0\n"
     ]
    },
    {
     "name": "stdout",
     "output_type": "stream",
     "text": [
      "Il prodotto vale 0\n"
     ]
    }
   ],
   "source": [
    "# Leggiamo i due valori\n",
    "MS = input(\"Moltiplicando:\")\n",
    "NS = input(\"Moltiplicatore:\") \n",
    "\n",
    "# Convertiamo i valori in numeri naturali\n",
    "\n",
    "M = int(MS)\n",
    "N = int(NS)\n",
    "\n",
    "# Inizializzamo la variabile accumulatore P\n",
    "\n",
    "P = 0\n",
    "while N>0:\n",
    "    P = P + M\n",
    "    N = N - 1\n",
    "print(\"Il prodotto vale\",P)"
   ]
  },
  {
   "cell_type": "markdown",
   "id": "d27260e0-3fa1-45c5-aa66-77308ae7079f",
   "metadata": {},
   "source": [
    "# Input più compatto\n",
    "\n",
    "Utilizziamo la composizione di funzioni per rendere più compatto il codice\n"
   ]
  },
  {
   "cell_type": "code",
   "execution_count": null,
   "id": "73d31034-65e9-4257-9094-83a5c741993f",
   "metadata": {},
   "outputs": [],
   "source": [
    "# Leggiamo i due valori\n",
    "# Convertiamo i valori in numeri naturali direttamente\n",
    "M = int(input(\"Moltiplicando:\"))\n",
    "N = int(input(\"Moltiplicatore:\")) \n",
    "\n",
    "# Inizializzamo la variabile accumulatore P\n",
    "\n",
    "P = 0\n",
    "while N>0:\n",
    "    P = P + M\n",
    "    N = N - 1\n",
    "print(\"Il prodotto vale\",P)"
   ]
  },
  {
   "cell_type": "markdown",
   "id": "54549f1c-b2ae-4e69-8fa3-220ffb203940",
   "metadata": {},
   "source": [
    "# Input con la funzione map per leggere tutto in una riga\n",
    "\n",
    "La funzione map() opera in questo modo: il primo parametro della chiamata è il nome (riferimento) di una funzione, il secondo parametro invece è una chiamata composta della funzione input e due altre funzioni per l'elaborazione dei messaggi di testo: la funzione strip() elimi eventuali spazi iniziali e/o finali, la funzione split() isola i diversi numeri utilizzando gli spazi di separazione, il risultato è che la funzione di conversione int viene applicata ad ogni valore numerico presente nel messaggio di input.\n"
   ]
  },
  {
   "cell_type": "code",
   "execution_count": 5,
   "id": "e02f66b2-046d-44c1-a519-863214586a0c",
   "metadata": {},
   "outputs": [
    {
     "name": "stdin",
     "output_type": "stream",
     "text": [
      "Scrivi moltiplicando e moltiplicatore separati da spazio 23 45\n"
     ]
    },
    {
     "name": "stdout",
     "output_type": "stream",
     "text": [
      "Il prodotto vale 1035\n"
     ]
    }
   ],
   "source": [
    "# usando la funzione map()\n",
    "M,N = map(int, input(\"Scrivi moltiplicando e moltiplicatore separati da spazio\").strip().split())\n",
    "\n",
    "# Inizializzamo la variabile accumulatore P\n",
    "\n",
    "P = 0\n",
    "while N>0:\n",
    "    P = P + M\n",
    "    N = N - 1\n",
    "print(\"Il prodotto vale\",P)"
   ]
  },
  {
   "cell_type": "markdown",
   "id": "634612fa-4d3b-4c3f-b2f7-1163a8354c7d",
   "metadata": {},
   "source": [
    "## Esercizio\n",
    "\n",
    "Modifica il programma della moltiplicazione per somme succesive in modo che il messaggio finale sia nella forma:\n",
    "\n",
    "Il prodotto tra 23 e 45 vale 1035\n",
    "\n"
   ]
  },
  {
   "cell_type": "code",
   "execution_count": null,
   "id": "f8520483-4bee-4e8b-8aa1-bb69e83335ad",
   "metadata": {},
   "outputs": [],
   "source": [
    "# Qui il tuo codice"
   ]
  },
  {
   "cell_type": "markdown",
   "id": "a501dc56-4e5a-44e0-9c0e-431df6e2943b",
   "metadata": {},
   "source": [
    "# Divisione intera e resto per sottrazioni successive\n",
    "\n",
    "Anche in questo caso l'ipotesi è che non siano disponibili gli operatori relativi alla divisione intera e al resto\n",
    "\n",
    "![Divisione](images/04-DIVISIONE.drawio.png)\n",
    "\n",
    "Sviluppa il tuo programma modificando opportunamente il codice proposto negli esercizi precedenti"
   ]
  },
  {
   "cell_type": "code",
   "execution_count": 6,
   "id": "3c5f12fe-3fc7-48a8-9734-a16fffe3a5db",
   "metadata": {},
   "outputs": [],
   "source": [
    "# Qui il tuo codice"
   ]
  },
  {
   "cell_type": "code",
   "execution_count": null,
   "id": "52cbc721-00b2-479a-a41f-8fafcc3b7b15",
   "metadata": {},
   "outputs": [],
   "source": []
  }
 ],
 "metadata": {
  "kernelspec": {
   "display_name": "Python 3 (ipykernel)",
   "language": "python",
   "name": "python3"
  },
  "language_info": {
   "codemirror_mode": {
    "name": "ipython",
    "version": 3
   },
   "file_extension": ".py",
   "mimetype": "text/x-python",
   "name": "python",
   "nbconvert_exporter": "python",
   "pygments_lexer": "ipython3",
   "version": "3.12.5"
  }
 },
 "nbformat": 4,
 "nbformat_minor": 5
}
